{
 "cells": [
  {
   "cell_type": "markdown",
   "id": "e3886960-f81b-4f1f-a3ba-1936bd4d38bf",
   "metadata": {},
   "source": [
    "# Derive the Dynamics and Sensor Model"
   ]
  },
  {
   "cell_type": "markdown",
   "id": "db0b7697-ca4c-4bdf-beae-8ea7fba075a8",
   "metadata": {},
   "source": [
    "## Derive Dynamics Model"
   ]
  },
  {
   "cell_type": "markdown",
   "id": "82d2ac54-2967-4b25-b796-d7407e0069b7",
   "metadata": {},
   "source": [
    "Import all packages used to derive the equations of motion of the system"
   ]
  },
  {
   "cell_type": "code",
   "execution_count": 3,
   "id": "fe651b6e-8b12-40cf-948f-e462d5218677",
   "metadata": {},
   "outputs": [],
   "source": [
    "import sympy as sym\n",
    "import numpy as np\n",
    "sym.init_printing()"
   ]
  },
  {
   "cell_type": "markdown",
   "id": "c8e86f19-05bd-4ddb-9211-967624cd7e62",
   "metadata": {},
   "source": [
    "First we need to find the value of the acceleration due to gravity on the planet on which the quadrotor is operating. We can do this using a function provided by the ae353_quadrotor module. You must select from one of the following planets: \"Mercury\", \"Venus\", \"Earth\", \"Moon\", \"Mars\", \"Jupiter\", \"Saturn\", \"Uranus\", \"Neptune\", \"Pluto\"."
   ]
  },
  {
   "cell_type": "code",
   "execution_count": 4,
   "id": "91dbdad2-6c0c-4a76-95e4-7d22f855681c",
   "metadata": {},
   "outputs": [],
   "source": [
    "# Get the gravity in m/s^2\n",
    "from ae353_quadrotor import get_gravity\n",
    "planet = \"Earth\"\n",
    "grav = get_gravity(planet, verbose=True)"
   ]
  },
  {
   "cell_type": "markdown",
   "id": "a7e955d8-80b3-4552-b4b3-26019477a5de",
   "metadata": {},
   "source": [
    "Define all the system constants (system parameters)"
   ]
  },
  {
   "cell_type": "code",
   "execution_count": 5,
   "id": "afb8105a-c786-4aba-8462-0aef72d3b393",
   "metadata": {},
   "outputs": [],
   "source": [
    "# Mass and moment of inertia of the bus(all need to be properly dervided from actual things)\n",
    "#if you want to test values you can use these numbers and comment out they sympy line\n",
    "\"\"\"mass = 0.5    # The mass of the quadrotor in kg\n",
    "Ixx = 0.0023  # The moment of inertia of the quadrotor in \n",
    "Iyy = 0.0023  # The mass of the quadrotor in kg\n",
    "Izz = 0.0040  # The mass of the quadrotor in kg\n",
    "lxy = 0.25    # The x or y distance from the quadrotor frame to the mocap markers in meters\n",
    "lz = 0.046875 # The z distance from the quadrotor frame to the mocap markers in meters\n",
    "k = 1.2       # The lift constant\n",
    "b = 0.8       # The drag coefficient\"\"\"\n",
    "mass,Ixx,Iyy,Izz,lxy,lz,k,b = sym.symbols(\"mass,Ixx,Iyy,Izz,l,lz,k,b\")"
   ]
  },
  {
   "cell_type": "markdown",
   "id": "a9f96b92-95c3-4a0e-b2f6-821fb6f55cab",
   "metadata": {},
   "source": [
    "Generate the symbols that define the state of the quadrotor. Also, create the rotation matrices that define the orientation of the quadrotor in the world coordinate system."
   ]
  },
  {
   "cell_type": "code",
   "execution_count": null,
   "id": "2c8a2957-47a2-477c-99d5-3a88d11955f4",
   "metadata": {},
   "outputs": [],
   "source": [
    "# Define position\n",
    "px_inW, py_inW, pz_inW = sym.symbols('p_x, p_y, p_z')\n",
    "p_inW = sym.Matrix([[px_inW],\n",
    "                    [py_inW],\n",
    "                    [pz_inW]])\n",
    "\n",
    "# Define velocity\n",
    "vx_inB, vy_inB, vz_inB = sym.symbols('v_x, v_y, v_z')\n",
    "v_inB = sym.Matrix([[vx_inB],\n",
    "                    [vy_inB],\n",
    "                    [vz_inB]])\n",
    "\n",
    "# Define roll (phi), pitch (theta), and yaw (psi) angles\n",
    "phi, theta, psi = sym.symbols('phi, theta, psi')\n",
    "n = sym.Matrix([[phi],\n",
    "                [theta],\n",
    "                [psi]])\n",
    "\n",
    "\n",
    "# Define angular velocities\n",
    "wx_inB, wy_inB, wz_inB = sym.symbols('omega_x, omega_y, omega_z') # same as the angle dots\n",
    "w_inB = sym.Matrix([[wx_inB],\n",
    "                    [wy_inB],\n",
    "                    [wz_inB]])\n",
    "\n",
    "# Define roll, pitch, and yaw rotation matrices that describe the bus's orientation in the \n",
    "# world frame\n",
    "Rx = sym.Matrix([[1,            0,             0],\n",
    "                 [0, sym.cos(phi), -sym.sin(phi)],\n",
    "                 [0, sym.sin(phi),  sym.cos(phi)]])\n",
    "Ry = sym.Matrix([[ sym.cos(theta), 0, sym.sin(theta)],\n",
    "                 [              0, 1,              0],\n",
    "                 [-sym.sin(theta), 0, sym.cos(theta)]])\n",
    "Rz = sym.Matrix([[sym.cos(psi), -sym.sin(psi), 0],\n",
    "                 [sym.sin(psi),  sym.cos(psi), 0],\n",
    "                 [           0,             0, 1]])\n",
    "R_ofB_inW = Rz @ Ry @ Rx\n",
    "R_ofW_inB = R_ofB_inW.T\n",
    "R_ofB_inW"
   ]
  },
  {
   "cell_type": "markdown",
   "id": "1f9e7bbc-e177-4c70-be7c-ec5bcca120e9",
   "metadata": {},
   "source": [
    "Calculate the roll, pitch, and yaw rates as a function of the orientation and body-fixed angular rates."
   ]
  },
  {
   "cell_type": "code",
   "execution_count": null,
   "id": "c3d1766b-f744-4cba-b4bb-fa42ded0549a",
   "metadata": {},
   "outputs": [],
   "source": [
    "# Define the transformation that takes roll, pitch, and yaw rates to body-fixed angular rates\n",
    "ex = sym.Matrix([[1], [0], [0]])\n",
    "ey = sym.Matrix([[0], [1], [0]])\n",
    "ez = sym.Matrix([[0], [0], [1]])\n",
    "M = sym.Matrix.hstack(ex, Rx.T@ey, (Ry@Rx).T@ez)\n",
    "\n",
    "# Invert the transformation to get a matrix that takes body-fixed angular rates to \n",
    "# roll, pitch, and yaw rates\n",
    "M_inv = sym.simplify(M.inv())\n",
    "\n",
    "# Convert the body-fixed angular rates to roll, pitch, and yaw rates\n",
    "rpy_dot = sym.simplify(M_inv@w_inB) #ndot as described by the paper (4)\n",
    "print(\"Roll, pitch, and yaw rate as a function of orientation and body-fixed angular rates:\")\n",
    "sym.N(rpy_dot,3)"
   ]
  },
  {
   "cell_type": "markdown",
   "id": "26ff798d-de91-43e3-84f5-8a3688205879",
   "metadata": {},
   "source": [
    "Next we assemble the moment of inertia tensor."
   ]
  },
  {
   "cell_type": "code",
   "execution_count": null,
   "id": "c133adfd-4cc6-4786-aae7-95c6371c0367",
   "metadata": {},
   "outputs": [],
   "source": [
    "# Assemble the moment of inertia matrix\n",
    "I_inB = sym.Matrix([[Ixx, 0.,  0.],\n",
    "                    [0.,  Iyy, 0.],\n",
    "                    [0.,  0.,  Izz]])"
   ]
  },
  {
   "cell_type": "markdown",
   "id": "c84a464f-6897-40fb-bda9-eed0689da7cf",
   "metadata": {},
   "source": [
    "Generate the symbols that define the input to the system. Also sum the together to get the net torque vector and force vector."
   ]
  },
  {
   "cell_type": "code",
   "execution_count": null,
   "id": "df8cebdf-1af4-409a-b233-621dafa7b950",
   "metadata": {},
   "outputs": [],
   "source": [
    "# Define inputs\n",
    "taux_inB, tauy_inB, tauz_inB, fz_inB,w1,w2,w3,w4 = sym.symbols('tau_x, tau_y, tau_z, f_z,w1,w2,w3,w4')\n",
    "#Fz is the same as total thrust T in paper(eq7)\n",
    "fz_inB = k* (w1**2+w2**2+w3**2+w4**2)\n",
    "#these taus are defined by eq (8) in the paper\n",
    "taux_inB = lxy*k*(-w2**2+w4**2)\n",
    "tauy_inB = lxy*k*(-w1**2+w3**2)\n",
    "tauz_inB = b*(w1**2+w2**2+w3**2+w4**2) \n",
    "\n",
    "\n",
    "#w_i_dot is negligible in eq (6) so the other part of the term can be disregarded \n",
    "# Get the net torque vector\n",
    "tau_inB = sym.Matrix([[taux_inB],\n",
    "                      [tauy_inB],\n",
    "                      [tauz_inB]])\n",
    "tau_inB = sym.simplify(tau_inB)\n",
    "#in the paper this is equated to tau_B, the angular velocities of each rotor and the total torque T_Mi\n",
    "\n",
    "# Get the gravity force and convert to body coordiantes\n",
    "grav_inW = sym.Matrix([[0.],\n",
    "                       [0.],\n",
    "                       [-mass * grav]])\n",
    "grav_inB = R_ofW_inB @ grav_inW\n",
    "\n",
    "# Get the net force vector (same as component G + total thrust as described by paper in like eq (9))\n",
    "f_inB = grav_inB + sym.Matrix([[0.],\n",
    "                               [0.],\n",
    "                               [fz_inB]])\n",
    "f_inB = sym.simplify(f_inB)\n",
    "tau_inB\n"
   ]
  },
  {
   "cell_type": "markdown",
   "id": "2d42bed4-f880-4815-9c8a-469cd0bd56b8",
   "metadata": {},
   "source": [
    "Convert the body-fixed velocity to world-fixed velocity to get the derivatives of position."
   ]
  },
  {
   "cell_type": "code",
   "execution_count": null,
   "id": "7057edc6-7233-4ffd-9424-95db56628f7f",
   "metadata": {},
   "outputs": [],
   "source": [
    "v_inW = R_ofB_inW @ v_inB\n",
    "xyz_dot = sym.simplify(v_inW)\n",
    "print(\"px, py, pz rate as a function of orientation and body-fixed velocities:\")\n",
    "sym.N(xyz_dot,3)"
   ]
  },
  {
   "cell_type": "markdown",
   "id": "1e079c03-c0c5-4f28-8606-51cfea24f2be",
   "metadata": {},
   "source": [
    "Apply [Newton's second law in a rotating frame](https://en.wikipedia.org/wiki/Rotating_reference_frame) to get the derivative of the velocity in body-fixed coordinates."
   ]
  },
  {
   "cell_type": "code",
   "execution_count": null,
   "id": "f0960d90-7fc2-4ee9-a703-405dc1594b85",
   "metadata": {},
   "outputs": [],
   "source": [
    "#**BODY FRAME**\n",
    "v_inB_dot = (1 / mass) * (f_inB - w_inB.cross(mass * v_inB)) #this solves eq (9)\n",
    "v_inB_dot = sym.simplify(v_inB_dot)\n",
    "print(\"Body-fixed velocity rates as a function of orientation, body-fixed velocities, and applied forces:\")\n",
    "sym.N(v_inB_dot,3) #same as vdot in the paper eq(11)"
   ]
  },
  {
   "cell_type": "code",
   "execution_count": null,
   "id": "b5e24143-3a85-461c-b798-edaaed5db7ed",
   "metadata": {},
   "outputs": [],
   "source": [
    "x_ddot = (1/mass)*(R_ofB_inW@f_inB)\n",
    "x_ddot = sym.simplify(x_ddot)\n",
    "x_ddot"
   ]
  },
  {
   "cell_type": "markdown",
   "id": "fe9f4ce0-3750-4255-b076-6b5c2815b648",
   "metadata": {},
   "source": [
    "Use [Euler's Equations](https://en.wikipedia.org/wiki/Euler%27s_equations_(rigid_body_dynamics)) to generate the equations of motion that relate angular velocity to input torque."
   ]
  },
  {
   "cell_type": "code",
   "execution_count": null,
   "id": "ea4edb3d-fe4c-4e79-ba3d-2fd1b7de04d1",
   "metadata": {},
   "outputs": [],
   "source": [
    "# Apply Euler's equation to get the time derivative of the angular velocities of the\n",
    "# quadrotor in the quadrotor frame **BODY FRAME**\n",
    "w_inB_dot = I_inB.inv() @ (tau_inB - w_inB.cross(I_inB@w_inB)) #eq (11 in paper), but we ignore gyroscopic forces\n",
    "w_inB_dot = sym.simplify(w_inB_dot)\n",
    "print(\"Time derivative of the angular velocities in the body-fixed frame:\")\n",
    "sym.N(w_inB_dot, 3)"
   ]
  },
  {
   "cell_type": "code",
   "execution_count": null,
   "id": "18dbf210-765d-4cca-83d0-fb8861eab4d5",
   "metadata": {},
   "outputs": [],
   "source": [
    "#**INERTIAL FRAME**\n",
    "M_inv_dot = np.array([[0,rpy_dot[0]*sym.cos(phi)*sym.tan(theta) + rpy_dot[1] * sym.sin(phi)/(sym.cos(theta)**2), -rpy_dot[0] * sym.sin(phi) *sym.cos(theta)  + rpy_dot[1]*sym.cos(phi)/(sym.cos(theta)**2)],\n",
    "                    [0, -rpy_dot[0] * sym.sin(phi), -rpy_dot[0] * sym.cos(phi)],\n",
    "                    [0, rpy_dot[0]*sym.cos(phi)/sym.cos(theta) + rpy_dot[0]*sym.sin(phi)*sym.tan(theta)/sym.cos(theta), -rpy_dot[0]*sym.sin(phi)/sym.cos(theta) + rpy_dot[1]*sym.cos(phi)*sym.tan(theta)/sym.cos(theta)]])\n",
    "rpy_ddot = M_inv_dot@w_inB + M_inv@w_inB_dot\n",
    "rpy_ddot = sym.simplify(rpy_ddot) #eq (12)\n",
    "print(\"Time derivative of roll, pitch, yaw rates in the body-fixed frame\")\n",
    "sym.N(rpy_ddot,3)"
   ]
  },
  {
   "cell_type": "markdown",
   "id": "9ac84e8a-b482-4a40-8aa9-764085f901af",
   "metadata": {},
   "source": [
    "# Euler-Lagrange eqs\n",
    "These solve for the equations in the inertial frame so x_ddot2 and rpy_ddot2 should be the same as x_ddot and rpy_ddot (idk if we want in inertial or body but if body, these can be neglected)"
   ]
  },
  {
   "cell_type": "code",
   "execution_count": null,
   "id": "4aea2b26-05fd-4eab-933f-d0f05f2248dc",
   "metadata": {},
   "outputs": [],
   "source": [
    "#jacobian matrix\n",
    "J = M.T @ I_inB @ M\n",
    "J = sym.simplify(J)\n",
    "J\n",
    "\n",
    "J_inv = sym.simplify(J.inv())"
   ]
  },
  {
   "cell_type": "code",
   "execution_count": null,
   "id": "ce22586f-1d0e-41de-a0b6-063de68e1c4e",
   "metadata": {},
   "outputs": [],
   "source": [
    "E_trans = (mass/2)*xyz_dot.T@xyz_dot\n",
    "E_rot = (1/2)*w_inB.T@I_inB@w_inB\n",
    "E_pot = mass * grav * sym.Matrix([p_inW[2]])\n",
    "L = E_trans + E_rot - E_pot\n",
    "sym.N(L,3)"
   ]
  },
  {
   "cell_type": "code",
   "execution_count": null,
   "id": "989dfe65-69e4-4494-8ca1-65762652806f",
   "metadata": {},
   "outputs": [],
   "source": [
    "x_ddot2 = (1/mass)*(R_ofB_inW@f_inB)\n",
    "x_ddot2 = sym.simplify(x_ddot2)\n",
    "x_ddot2"
   ]
  },
  {
   "cell_type": "code",
   "execution_count": null,
   "id": "6728106a-e479-4d60-84c0-36381bade8c9",
   "metadata": {},
   "outputs": [],
   "source": [
    "#coriolis term (not symmetric)\n",
    "C11 = 0\n",
    "C12 = (Iyy-Izz)*(rpy_dot[1]*sym.cos(phi)*sym.sin(phi)+rpy_dot[2]*sym.cos(theta)*sym.sin(phi)**2)+(Izz-Iyy)*rpy_dot[2]*sym.cos(theta)*sym.cos(phi)**2-Ixx*rpy_dot[2]*sym.cos(theta)\n",
    "C13 = (Izz-Iyy)*rpy_dot[2]*sym.cos(phi)*sym.sin(phi)*sym.cos(theta)**2\n",
    "C21 = (Izz-Iyy)*(rpy_dot[1]*sym.cos(phi)*sym.sin(phi)+rpy_dot[2]*sym.cos(theta)*sym.sin(phi))+(Iyy-Izz)*rpy_dot[2]*sym.cos(theta)*sym.cos(phi)**2+Ixx*rpy_dot[2]*sym.cos(theta)\n",
    "C22 = (Izz-Iyy)*rpy_dot[0]*sym.cos(phi)*sym.sin(phi)\n",
    "C23 = -Ixx*rpy_dot[2]*sym.sin(theta)*sym.cos(theta) + Iyy*rpy_dot[2]*sym.sin(theta)*sym.cos(theta)*sym.sin(phi)**2 + Izz*rpy_dot[2]*sym.sin(theta)*sym.cos(theta)*sym.cos(phi)**2\n",
    "C31 = C13 - Ixx*rpy_dot[1]*sym.cos(theta)\n",
    "C32 = (Izz-Iyy)*(rpy_dot[1]*sym.cos(phi)*sym.sin(phi)*sym.sin(theta)+rpy_dot[0]*sym.cos(theta)*sym.sin(phi)**2)+(Iyy-Izz)*(rpy_dot[0]*sym.cos(theta)*sym.cos(phi)**2)-1*C23\n",
    "C33 = (Iyy-Izz)*rpy_dot[0]*sym.cos(phi)*sym.sin(phi)*sym.cos(theta)**2 - rpy_dot[1]*sym.sin(theta)*sym.cos(theta)*(Iyy*sym.sin(phi)**2 + Izz*sym.cos(phi)**2 - Ixx)\n",
    "C = sym.Matrix([[C11,C12,C13],\n",
    "                [C21,C22,C23],\n",
    "                [C31,C32,C33]])\n",
    "C"
   ]
  },
  {
   "cell_type": "code",
   "execution_count": null,
   "id": "69a841aa-458d-4cb8-899c-14d3bd1cbbc8",
   "metadata": {},
   "outputs": [],
   "source": [
    "rpy_ddot2 = J_inv@(tau_inB - C@rpy_dot)\n",
    "rpy_ddot2 = sym.simplify(rpy_ddot2)\n",
    "sym.N(rpy_ddot2,3)"
   ]
  },
  {
   "cell_type": "markdown",
   "id": "05c57005-b2c8-4043-b5f9-77bad6b945fc",
   "metadata": {},
   "source": [
    "# F matrix\n",
    "f is all of the eoms in the body frame and consists of linear velocities, linear accelerations, angular velocities, angular accelerations in body frame"
   ]
  },
  {
   "cell_type": "markdown",
   "id": "098600eb-4770-4883-9fd0-d0a7bd1c8f71",
   "metadata": {},
   "source": [
    "Assemble all differential equations."
   ]
  },
  {
   "cell_type": "code",
   "execution_count": null,
   "id": "747382aa-5a34-4e8a-92a7-fd98d037be51",
   "metadata": {},
   "outputs": [],
   "source": [
    "f = sym.Matrix.vstack(xyz_dot,\n",
    "                      v_inB_dot,\n",
    "                      rpy_dot,\n",
    "                      w_inB_dot)"
   ]
  },
  {
   "cell_type": "markdown",
   "id": "1f3dd427-077c-4984-9929-31c8c7a3ca38",
   "metadata": {},
   "source": [
    "The equations of motion have this form:\n",
    "\n",
    "$$\\begin{bmatrix} \\dot{p_x} \\\\ \\dot{p_y} \\\\ \\dot{p_z} \\\\ \\dot{v_x} \\\\ \\dot{v_y} \\\\ \\dot{v_z} \\\\ \\dot{\\phi} \\\\ \\dot{\\theta} \\\\ \\dot{\\psi} \\\\ \\dot{\\omega_x} \\\\ \\dot{\\omega_y} \\\\ \\dot{\\omega_z} \\end{bmatrix}=f\\left(p_x, p_y, p_z, v_x, v_y, v_z, \\phi, \\theta, \\psi, \\omega_x, \\omega_y, \\omega_z, \\tau_x, \\tau_y, \\tau_z, f_z\\right)$$\n",
    "\n",
    "Here is the function $f$:"
   ]
  },
  {
   "cell_type": "code",
   "execution_count": null,
   "id": "d9f95ec9-94a8-430c-b1d9-a4ac192c88ba",
   "metadata": {},
   "outputs": [],
   "source": [
    "sym.N(f,3)"
   ]
  },
  {
   "cell_type": "code",
   "execution_count": null,
   "id": "78e88e47-2f5c-42f7-bb4c-5f334dabc61d",
   "metadata": {},
   "outputs": [],
   "source": []
  },
  {
   "cell_type": "code",
   "execution_count": null,
   "id": "14383039-41a1-4834-a5d4-c1a2011b2148",
   "metadata": {},
   "outputs": [],
   "source": []
  }
 ],
 "metadata": {
  "kernelspec": {
   "display_name": "Python 3 (ipykernel)",
   "language": "python",
   "name": "python3"
  },
  "language_info": {
   "codemirror_mode": {
    "name": "ipython",
    "version": 3
   },
   "file_extension": ".py",
   "mimetype": "text/x-python",
   "name": "python",
   "nbconvert_exporter": "python",
   "pygments_lexer": "ipython3",
   "version": "3.12.1"
  }
 },
 "nbformat": 4,
 "nbformat_minor": 5
}
