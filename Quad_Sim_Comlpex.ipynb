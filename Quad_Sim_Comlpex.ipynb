{
 "cells": [
  {
   "cell_type": "code",
   "execution_count": 63,
   "metadata": {},
   "outputs": [],
   "source": [
    "from sympy import *\n",
    "import numpy as np\n",
    "from scipy.integrate import solve_ivp\n",
    "import matplotlib.pyplot as plt\n",
    "import matplotlib.animation as animation\n",
    "from IPython.display import HTML"
   ]
  },
  {
   "cell_type": "code",
   "execution_count": 64,
   "metadata": {},
   "outputs": [],
   "source": [
    "t_hist = []\n",
    "px_hist = []\n",
    "py_hist = []\n",
    "pz_hist = []\n",
    "vx_hist = []\n",
    "vy_hist = []\n",
    "vz_hist = []\n",
    "phi_hist = []\n",
    "theta_hist = []\n",
    "psi_hist = []\n",
    "omegax_hist = []\n",
    "omegay_hist = []\n",
    "omegaz_hist = []"
   ]
  },
  {
   "cell_type": "code",
   "execution_count": 65,
   "metadata": {},
   "outputs": [],
   "source": [
    "#constants / QuadCopter dimensions\n",
    "g = 9.81 # gravity\n",
    "k = 6.36105*10**-9  # propellar lift coefficient\n",
    "b = 4.65133*10**-11  # drag coefficient\n",
    "\n",
    "m_body = 0.7\n",
    "l_body = 0.5\n",
    "w_body = l_body\n",
    "t_body = 0.1\n",
    "\n",
    "m_arm = 0.05\n",
    "l_arm = 0.4\n",
    "\n",
    "l_rz = 0.05\n",
    "#1 # z-distance between rotors and center of mass"
   ]
  },
  {
   "cell_type": "code",
   "execution_count": 66,
   "metadata": {},
   "outputs": [],
   "source": [
    "def body_forces(w1, w2, w3, w4):\n",
    "    taux = l_rz * k * (-w2**2 + w4**2)\n",
    "    tauy = l_rz * k * (-w1**2 + w3**2)\n",
    "    tauz = l_rz * b * (w1**2 - w2**2 + w3**2 - w4**2)\n",
    "\n",
    "    fz = k * (w1**2 + w2**2 + w3**2 + w4**2)\n",
    "\n",
    "    return taux, tauy, tauz, fz"
   ]
  },
  {
   "cell_type": "code",
   "execution_count": 67,
   "metadata": {},
   "outputs": [],
   "source": [
    "#calcs moments of inertia \n",
    "m = 4*m_arm + m_body\n",
    "\n",
    "I_xx_body = 1/12 * m_body*(w_body**2 + t_body**2)\n",
    "I_yy_body = 1/12 * m_body*(l_body**2 + t_body**2)\n",
    "I_zz_body = 1/12 * m_body *(w_body**2 + l_body**2)\n",
    "\n",
    "I_xx_arm = 0\n",
    "I_yy_arm = 1/12 * m_arm * l_arm**2 + m_arm * (l_arm/2 + l_body/2)**2\n",
    "I_zz_arm = I_yy_arm\n",
    "\n",
    "Ixx = 4*I_xx_arm + I_xx_body\n",
    "Iyy = 2*I_yy_arm + I_yy_body\n",
    "Izz = 4*I_zz_arm + I_zz_body\n"
   ]
  },
  {
   "cell_type": "code",
   "execution_count": 68,
   "metadata": {},
   "outputs": [],
   "source": [
    "def quad_EOM(t, q, taux, tauy, tauz, fz):\n",
    "\n",
    "    #must be first-order ODES\n",
    "    '''\n",
    "    Arguements:\n",
    "        q : state vector :\n",
    "        [px, py, pz, vx, vy, vz, phi, theta, psi, \n",
    "        omegax, omegay, omegaz, taux, tauy, tauz, fz]\n",
    "\n",
    "        t : time\n",
    "        p : various vector parameters : \n",
    "        [m, Ixx, Iyy, Izz]\n",
    "    '''\n",
    "\n",
    "    px, py, pz, vx, vy, vz, phi, theta, psi, omegax, omegay, omegaz = q\n",
    "\n",
    "    C_phi = np.cos(phi)\n",
    "    C_theta = np.cos(theta)\n",
    "    C_psi = np.cos(psi)\n",
    "    \n",
    "    S_phi = np.sin(phi)\n",
    "    S_theta = np.sin(theta)\n",
    "    S_psi = np.sin(psi)\n",
    "\n",
    "    px_dot = vx*C_psi*C_theta + vy*(S_phi*S_theta*C_psi - S_psi * C_phi) + vz * (S_phi * S_psi + S_theta*C_phi*C_psi)\n",
    "    py_dot = vx*S_psi*C_theta + vy*(S_phi * S_psi *S_theta + C_phi*C_psi) - vz*(S_phi*C_psi - S_psi*S_theta*C_phi)\n",
    "    pz_dot = -vx*S_theta + vy*S_phi*C_theta + vz * C_phi * C_theta\n",
    "\n",
    "    vx_dot = -omegay*vz + omegaz*vy + g*S_theta\n",
    "    vy_dot = omegax*vz - omegaz*vx - g*S_phi*C_theta\n",
    "    vz_dot = fz/m - omegax*vy + omegay*vx - g*C_phi*C_theta\n",
    "\n",
    "    phi_dot = omegax + omegay*S_phi*S_theta/C_theta + omegaz*C_phi*S_theta/C_theta\n",
    "    theta_dot = omegay*C_phi - omegaz*S_phi\n",
    "    psi_dot = 1/C_theta * (omegay*S_phi + omegaz*C_phi)\n",
    "\n",
    "    omegax_dot = 1/Ixx * (Iyy*omegay*omegaz - Izz*omegay*omegaz + taux)\n",
    "    omegay_dot = 1/Iyy * (-Ixx*omegax*omegaz + Izz*omegax * omegaz + tauy)\n",
    "    omegaz_dot = 1/Izz * (Ixx*omegax*omegay - Iyy*omegax*omegay + tauz)\n",
    "\n",
    "\n",
    "\n",
    "    EOM = [px_dot, py_dot, pz_dot, \n",
    "           vx_dot, vy_dot, vz_dot,\n",
    "           phi_dot, theta_dot, psi_dot,\n",
    "           omegax_dot, omegay_dot, omegaz_dot]\n",
    "    \n",
    "    return EOM "
   ]
  },
  {
   "cell_type": "code",
   "execution_count": 69,
   "metadata": {},
   "outputs": [
    {
     "data": {
      "text/plain": [
       "8.828999999999999"
      ]
     },
     "execution_count": 69,
     "metadata": {},
     "output_type": "execute_result"
    }
   ],
   "source": [
    "F_net = m*g\n",
    "\n",
    "w = np.sqrt(F_net/(4*k))\n",
    "F_net"
   ]
  },
  {
   "cell_type": "code",
   "execution_count": 70,
   "metadata": {},
   "outputs": [
    {
     "data": {
      "text/plain": [
       "8.87717917240671"
      ]
     },
     "execution_count": 70,
     "metadata": {},
     "output_type": "execute_result"
    }
   ],
   "source": [
    "#controls\n",
    "#propeller controls\n",
    "W = 8.828999999999999\n",
    "w = 18628.547125822548 + 50\n",
    "    #clockwise\n",
    "w1 = w\n",
    "w3 = w\n",
    "    #counter-clockwise\n",
    "w2 = w\n",
    "w4 = w\n",
    "\n",
    "body_forces(w1, w2, w3, w4)\n",
    "#47.091822474820404 * np.cos(init_theta)\n",
    "taux, tauy, tauz, fz = body_forces(w1, w2, w3, w4)\n",
    "fz"
   ]
  },
  {
   "cell_type": "code",
   "execution_count": 71,
   "metadata": {},
   "outputs": [],
   "source": [
    "#up1\n",
    "\n",
    "#init_conditions\n",
    "px0 = 0\n",
    "py0 = 0\n",
    "pz0 = 0\n",
    "vx0 = 0\n",
    "vy0 = 0\n",
    "vz0 = 0\n",
    "phi0 = 0\n",
    "theta0 = 0\n",
    "psi0 = 0\n",
    "omegax0 = 0\n",
    "omegay0 = 0\n",
    "omegaz0 = 0\n",
    "\n",
    "t = (0, 4.321)\n",
    "\n",
    "init = [px0, py0, pz0, vx0, vy0, vz0, \n",
    "        phi0, theta0, psi0, omegax0, omegay0, omegaz0]\n",
    "\n",
    "#controls\n",
    "taux, tauy, tauz, fz = body_forces(w1, w2, w3, w4)\n",
    "\n",
    "para =(taux, tauy, tauz, fz)\n",
    "sol = solve_ivp(quad_EOM, t, init, max_step = 0.001, args = para)\n",
    "\n",
    "\n",
    "t_hist = list(sol.t)\n",
    "px_hist = list(sol.y[0])\n",
    "py_hist = list(sol.y[1])\n",
    "pz_hist = list(sol.y[2])\n",
    "vx_hist = list(sol.y[3])\n",
    "vy_hist = list(sol.y[4])\n",
    "vz_hist = list(sol.y[5])\n",
    "phi_hist = list(sol.y[6])\n",
    "theta_hist = list(sol.y[7])\n",
    "psi_hist = list(sol.y[8])\n",
    "omegax_hist = list(sol.y[9])\n",
    "omegay_hist = list(sol.y[10])\n",
    "omegaz_hist = list(sol.y[11])"
   ]
  },
  {
   "cell_type": "code",
   "execution_count": 72,
   "metadata": {},
   "outputs": [
    {
     "data": {
      "text/plain": [
       "8.780490713352624"
      ]
     },
     "execution_count": 72,
     "metadata": {},
     "output_type": "execute_result"
    }
   ],
   "source": [
    "#controls\n",
    "#propeller controls\n",
    "W = 8.828999999999999\n",
    "w = 18628.547125822548 - 52\n",
    "    #clockwise\n",
    "w1 = w\n",
    "w3 = w \n",
    "    #counter-clockwise\n",
    "w2 = w\n",
    "w4 = w\n",
    "\n",
    "body_forces(w1, w2, w3, w4)\n",
    "#47.091822474820404 * np.cos(init_theta)\n",
    "taux, tauy, tauz, fz = body_forces(w1, w2, w3, w4)\n",
    "fz"
   ]
  },
  {
   "cell_type": "code",
   "execution_count": 73,
   "metadata": {},
   "outputs": [],
   "source": [
    "#up2 \n",
    "\n",
    "#init_conditions\n",
    "px0 = px_hist[-1]\n",
    "py0 = py_hist[-1]\n",
    "pz0 = pz_hist[-1]\n",
    "vx0 = vx_hist[-1]\n",
    "vy0 = vy_hist[-1]\n",
    "vz0 = vz_hist[-1]\n",
    "phi0 = phi_hist[-1]\n",
    "theta0 = theta_hist[-1]\n",
    "psi0 = psi_hist[-1]\n",
    "omegax0 = omegax_hist[-1]\n",
    "omegay0 = omegay_hist[-1]\n",
    "omegaz0 = omegaz_hist[-1]\n",
    "\n",
    "t = (t_hist[-1], 8.612)\n",
    "\n",
    "init = [px0, py0, pz0, vx0, vy0, vz0, \n",
    "        phi0, theta0, psi0, omegax0, omegay0, omegaz0]\n",
    "\n",
    "#controls\n",
    "taux, tauy, tauz, fz = body_forces(w1, w2, w3, w4)\n",
    "\n",
    "\n",
    "para =(taux, tauy, tauz, fz)\n",
    "sol = solve_ivp(quad_EOM, t, init, max_step = 0.001, args = para)\n",
    "\n",
    "t_hist = t_hist + list(sol.t)\n",
    "px_hist = px_hist + list(sol.y[0])\n",
    "py_hist = py_hist + list(sol.y[1])\n",
    "pz_hist = pz_hist + list(sol.y[2])\n",
    "vx_hist = vx_hist + list(sol.y[3])\n",
    "vy_hist = vy_hist + list(sol.y[4])\n",
    "vz_hist= vz_hist + list(sol.y[5])\n",
    "phi_hist = phi_hist + list(sol.y[6])\n",
    "theta_hist = theta_hist + list(sol.y[7])\n",
    "psi_hist = psi_hist + list(sol.y[8])\n",
    "omegax_hist = omegax_hist + list(sol.y[9])\n",
    "omegay_hist = omegay_hist + list(sol.y[10])\n",
    "omegaz_hist = omegaz_hist + list(sol.y[11])\n"
   ]
  },
  {
   "cell_type": "markdown",
   "metadata": {},
   "source": [
    "EVERYTHING GOOD UP TO HERE"
   ]
  },
  {
   "cell_type": "code",
   "execution_count": 74,
   "metadata": {},
   "outputs": [
    {
     "data": {
      "text/plain": [
       "(0.0, 0.011849711969471351, 1.1628325e-06, 8.832897239028824)"
      ]
     },
     "execution_count": 74,
     "metadata": {},
     "output_type": "execute_result"
    }
   ],
   "source": [
    "#controls\n",
    "#propeller controls\n",
    "W = 8.828999999999999\n",
    "w = 18628.547125822548\n",
    "    #clockwise\n",
    "w1 = w-500\n",
    "w3 = w+500\n",
    "    #counter-clockwise\n",
    "w2 = w\n",
    "w4 = w\n",
    "\n",
    "body_forces(w1, w2, w3, w4)\n",
    "#47.091822474820404 * np.cos(init_theta)\n",
    "taux, tauy, tauz, fz = body_forces(w1, w2, w3, w4)\n",
    "fz\n",
    "body_forces(w1, w2, w3, w4)"
   ]
  },
  {
   "cell_type": "code",
   "execution_count": 75,
   "metadata": {},
   "outputs": [],
   "source": [
    "#rotate around phi\n",
    "\n",
    "#init_conditions\n",
    "px0 = px_hist[-1]\n",
    "py0 = py_hist[-1]\n",
    "pz0 = pz_hist[-1]\n",
    "vx0 = vx_hist[-1]\n",
    "vy0 = vy_hist[-1]\n",
    "vz0 = vz_hist[-1]\n",
    "phi0 = phi_hist[-1]\n",
    "theta0 = theta_hist[-1]\n",
    "psi0 = psi_hist[-1]\n",
    "omegax0 = omegax_hist[-1]\n",
    "omegay0 = omegay_hist[-1]\n",
    "omegaz0 = omegaz_hist[-1]\n",
    "\n",
    "t = (9.911, 10.6)\n",
    "\n",
    "init = [px0, py0, pz0, vx0, vy0, vz0, \n",
    "        phi0, theta0, psi0, omegax0, omegay0, omegaz0]\n",
    "\n",
    "#controls\n",
    "taux, tauy, tauz, fz = body_forces(w1, w2, w3, w4)\n",
    "\n",
    "para =(taux, tauy, tauz, fz)\n",
    "sol = solve_ivp(quad_EOM, t, init, max_step = 0.001, args = para)\n",
    "sol\n",
    "\n",
    "t_hist = t_hist + list(sol.t)\n",
    "px_hist = px_hist + list(sol.y[0])\n",
    "py_hist = py_hist + list(sol.y[1])\n",
    "pz_hist = pz_hist + list(sol.y[2])\n",
    "vx_hist = vx_hist + list(sol.y[3])\n",
    "vy_hist = vy_hist + list(sol.y[4])\n",
    "vz_hist= vz_hist + list(sol.y[5])\n",
    "phi_hist = phi_hist + list(sol.y[6])\n",
    "theta_hist = theta_hist + list(sol.y[7])\n",
    "psi_hist = psi_hist + list(sol.y[8])\n",
    "omegax_hist = omegax_hist + list(sol.y[9])\n",
    "omegay_hist = omegay_hist + list(sol.y[10])\n",
    "omegaz_hist = omegaz_hist + list(sol.y[11])"
   ]
  },
  {
   "cell_type": "code",
   "execution_count": 76,
   "metadata": {},
   "outputs": [
    {
     "data": {
      "text/plain": [
       "(0.0, -0.03554913590841405, 1.04654925e-05, 8.858341439028825)"
      ]
     },
     "execution_count": 76,
     "metadata": {},
     "output_type": "execute_result"
    }
   ],
   "source": [
    "#controls\n",
    "#propeller controls\n",
    "W = 8.828999999999999\n",
    "w = 18628.547125822548\n",
    "    #clockwise\n",
    "w1 = w +1500\n",
    "w3 = w -1500\n",
    "    #counter-clockwise\n",
    "w2 = w\n",
    "w4 = w\n",
    "\n",
    "body_forces(w1, w2, w3, w4)\n",
    "#47.091822474820404 * np.cos(init_theta)\n",
    "taux, tauy, tauz, fz = body_forces(w1, w2, w3, w4)\n",
    "body_forces(w1, w2, w3, w4)"
   ]
  },
  {
   "cell_type": "code",
   "execution_count": 77,
   "metadata": {},
   "outputs": [],
   "source": [
    "#stops rotating around phi\n",
    "\n",
    "#init_conditions\n",
    "px0 = px_hist[-1]\n",
    "py0 = py_hist[-1]\n",
    "pz0 = pz_hist[-1]\n",
    "vx0 = vx_hist[-1]\n",
    "vy0 = vy_hist[-1]\n",
    "vz0 = vz_hist[-1]\n",
    "phi0 = phi_hist[-1]\n",
    "theta0 = theta_hist[-1]\n",
    "psi0 = psi_hist[-1]\n",
    "omegax0 = omegax_hist[-1]\n",
    "omegay0 = omegay_hist[-1]\n",
    "omegaz0 = omegaz_hist[-1]\n",
    "\n",
    "t = (10.6, 10.95)#10.085)\n",
    "\n",
    "init = [px0, py0, pz0, vx0, vy0, vz0, \n",
    "        phi0, theta0, psi0, omegax0, omegay0, omegaz0]\n",
    "\n",
    "#controls\n",
    "taux, tauy, tauz, fz = body_forces(w1, w2, w3, w4)\n",
    "\n",
    "para =(taux, tauy, tauz, fz)\n",
    "sol = solve_ivp(quad_EOM, t, init, max_step = 0.001, args = para)\n",
    "sol\n",
    "\n",
    "t_hist = t_hist + list(sol.t)\n",
    "px_hist = px_hist + list(sol.y[0])\n",
    "py_hist = py_hist + list(sol.y[1])\n",
    "pz_hist = pz_hist + list(sol.y[2])\n",
    "vx_hist = vx_hist + list(sol.y[3])\n",
    "vy_hist = vy_hist + list(sol.y[4])\n",
    "vz_hist= vz_hist + list(sol.y[5])\n",
    "phi_hist = phi_hist + list(sol.y[6])\n",
    "theta_hist = theta_hist + list(sol.y[7])\n",
    "psi_hist = psi_hist + list(sol.y[8])\n",
    "omegax_hist = omegax_hist + list(sol.y[9])\n",
    "omegay_hist = omegay_hist + list(sol.y[10])\n",
    "omegaz_hist = omegaz_hist + list(sol.y[11])"
   ]
  },
  {
   "cell_type": "code",
   "execution_count": 78,
   "metadata": {},
   "outputs": [
    {
     "data": {
      "text/plain": [
       "(0.0, 0.0, 0.0, 8.829716714028825)"
      ]
     },
     "execution_count": 78,
     "metadata": {},
     "output_type": "execute_result"
    }
   ],
   "source": [
    "#controls\n",
    "#propeller controls\n",
    "W = 8.828999999999999\n",
    "w = 18628.547125822548\n",
    "    #clockwise\n",
    "w1 = w\n",
    "w3 = w\n",
    "    #counter-clockwise\n",
    "w2 = w\n",
    "w4 = w\n",
    "\n",
    "body_forces(w1, w2, w3, w4)\n",
    "#47.091822474820404 * np.cos(init_theta)\n",
    "taux, tauy, tauz, fz = body_forces(w1, w2, w3, w4)\n",
    "body_forces(w1, w2, w3, w4)"
   ]
  },
  {
   "cell_type": "code",
   "execution_count": 79,
   "metadata": {},
   "outputs": [],
   "source": [
    "#stops rotating around phi\n",
    "\n",
    "#init_conditions\n",
    "px0 = px_hist[-1]\n",
    "py0 = py_hist[-1]\n",
    "pz0 = pz_hist[-1]\n",
    "vx0 = vx_hist[-1]\n",
    "vy0 = vy_hist[-1]\n",
    "vz0 = vz_hist[-1]\n",
    "phi0 = phi_hist[-1]\n",
    "theta0 = theta_hist[-1]\n",
    "psi0 = psi_hist[-1]\n",
    "omegax0 = omegax_hist[-1]\n",
    "omegay0 = omegay_hist[-1]\n",
    "omegaz0 = omegaz_hist[-1]\n",
    "\n",
    "t = (10.95, 11.6)#10.085)\n",
    "\n",
    "init = [px0, py0, pz0, vx0, vy0, vz0, \n",
    "        phi0, theta0, psi0, omegax0, omegay0, omegaz0]\n",
    "\n",
    "#controls\n",
    "taux, tauy, tauz, fz = body_forces(w1, w2, w3, w4)\n",
    "\n",
    "para =(taux, tauy, tauz, fz)\n",
    "sol = solve_ivp(quad_EOM, t, init, max_step = 0.001, args = para)\n",
    "sol\n",
    "\n",
    "t_hist = t_hist + list(sol.t)\n",
    "px_hist = px_hist + list(sol.y[0])\n",
    "py_hist = py_hist + list(sol.y[1])\n",
    "pz_hist = pz_hist + list(sol.y[2])\n",
    "vx_hist = vx_hist + list(sol.y[3])\n",
    "vy_hist = vy_hist + list(sol.y[4])\n",
    "vz_hist= vz_hist + list(sol.y[5])\n",
    "phi_hist = phi_hist + list(sol.y[6])\n",
    "theta_hist = theta_hist + list(sol.y[7])\n",
    "psi_hist = psi_hist + list(sol.y[8])\n",
    "omegax_hist = omegax_hist + list(sol.y[9])\n",
    "omegay_hist = omegay_hist + list(sol.y[10])\n",
    "omegaz_hist = omegaz_hist + list(sol.y[11])"
   ]
  },
  {
   "cell_type": "code",
   "execution_count": 80,
   "metadata": {},
   "outputs": [
    {
     "data": {
      "text/plain": [
       "(0.0, 0.012892486622784843, 1.3764959948798613e-06, 8.833481641414425)"
      ]
     },
     "execution_count": 80,
     "metadata": {},
     "output_type": "execute_result"
    }
   ],
   "source": [
    "#controls\n",
    "#propeller controls\n",
    "W = 8.828999999999999\n",
    "w = 18628.547125822548\n",
    "    #clockwise\n",
    "w1 = w - 544\n",
    "w3 = w + 544\n",
    "    #counter-clockwise\n",
    "w2 = w\n",
    "w4 = w\n",
    "\n",
    "body_forces(w1, w2, w3, w4)\n",
    "#47.091822474820404 * np.cos(init_theta)\n",
    "taux, tauy, tauz, fz = body_forces(w1, w2, w3, w4)\n",
    "body_forces(w1, w2, w3, w4)"
   ]
  },
  {
   "cell_type": "code",
   "execution_count": 81,
   "metadata": {},
   "outputs": [],
   "source": [
    "#stops rotating around phi\n",
    "\n",
    "#init_conditions\n",
    "px0 = px_hist[-1]\n",
    "py0 = py_hist[-1]\n",
    "pz0 = pz_hist[-1]\n",
    "vx0 = vx_hist[-1]\n",
    "vy0 = vy_hist[-1]\n",
    "vz0 = vz_hist[-1]\n",
    "phi0 = phi_hist[-1]\n",
    "theta0 = theta_hist[-1]\n",
    "psi0 = psi_hist[-1]\n",
    "omegax0 = omegax_hist[-1]\n",
    "omegay0 = omegay_hist[-1]\n",
    "omegaz0 = omegaz_hist[-1]\n",
    "\n",
    "t = (11.6, 11.94)#10.085)\n",
    "\n",
    "init = [px0, py0, pz0, vx0, vy0, vz0, \n",
    "        phi0, theta0, psi0, omegax0, omegay0, omegaz0]\n",
    "\n",
    "#controls\n",
    "taux, tauy, tauz, fz = body_forces(w1, w2, w3, w4)\n",
    "\n",
    "para =(taux, tauy, tauz, fz)\n",
    "sol = solve_ivp(quad_EOM, t, init, max_step = 0.001, args = para)\n",
    "sol\n",
    "\n",
    "t_hist = t_hist + list(sol.t)\n",
    "px_hist = px_hist + list(sol.y[0])\n",
    "py_hist = py_hist + list(sol.y[1])\n",
    "pz_hist = pz_hist + list(sol.y[2])\n",
    "vx_hist = vx_hist + list(sol.y[3])\n",
    "vy_hist = vy_hist + list(sol.y[4])\n",
    "vz_hist= vz_hist + list(sol.y[5])\n",
    "phi_hist = phi_hist + list(sol.y[6])\n",
    "theta_hist = theta_hist + list(sol.y[7])\n",
    "psi_hist = psi_hist + list(sol.y[8])\n",
    "omegax_hist = omegax_hist + list(sol.y[9])\n",
    "omegay_hist = omegay_hist + list(sol.y[10])\n",
    "omegaz_hist = omegaz_hist + list(sol.y[11])"
   ]
  },
  {
   "cell_type": "markdown",
   "metadata": {},
   "source": [
    "EVERYTHING IS GOOD UP TO HERE"
   ]
  },
  {
   "cell_type": "code",
   "execution_count": 82,
   "metadata": {},
   "outputs": [
    {
     "data": {
      "text/plain": [
       "(0.0, 0.0, 0.0, 8.834457234921613)"
      ]
     },
     "execution_count": 82,
     "metadata": {},
     "output_type": "execute_result"
    }
   ],
   "source": [
    "#controls\n",
    "#propeller controls\n",
    "W = 8.828999999999999\n",
    "w = 18628.547125822548 + 5\n",
    "    #clockwise\n",
    "w1 = w \n",
    "w3 = w \n",
    "    #counter-clockwise\n",
    "w2 = w\n",
    "w4 = w\n",
    "\n",
    "body_forces(w1, w2, w3, w4)\n",
    "#47.091822474820404 * np.cos(init_theta)\n",
    "taux, tauy, tauz, fz = body_forces(w1, w2, w3, w4)\n",
    "body_forces(w1, w2, w3, w4)"
   ]
  },
  {
   "cell_type": "code",
   "execution_count": 83,
   "metadata": {},
   "outputs": [],
   "source": [
    "#moves forward\n",
    "\n",
    "#init_conditions\n",
    "px0 = px_hist[-1]\n",
    "py0 = py_hist[-1]\n",
    "pz0 = pz_hist[-1]\n",
    "vx0 = vx_hist[-1]\n",
    "vy0 = vy_hist[-1]\n",
    "vz0 = vz_hist[-1]\n",
    "phi0 = phi_hist[-1]\n",
    "theta0 = theta_hist[-1]\n",
    "psi0 = psi_hist[-1]\n",
    "omegax0 = omegax_hist[-1]\n",
    "omegay0 = omegay_hist[-1]\n",
    "omegaz0 = omegaz_hist[-1]\n",
    "\n",
    "t = (11.94, 15.3)\n",
    "\n",
    "init = [px0, py0, pz0, vx0, vy0, vz0, \n",
    "        phi0, theta0, psi0, omegax0, omegay0, omegaz0]\n",
    "\n",
    "#controls\n",
    "taux, tauy, tauz, fz = body_forces(w1, w2, w3, w4)\n",
    "\n",
    "para =(taux, tauy, tauz, fz)\n",
    "sol = solve_ivp(quad_EOM, t, init, max_step = 0.001, args = para)\n",
    "sol\n",
    "\n",
    "t_hist = t_hist + list(sol.t)\n",
    "px_hist = px_hist + list(sol.y[0])\n",
    "py_hist = py_hist + list(sol.y[1])\n",
    "pz_hist = pz_hist + list(sol.y[2])\n",
    "vx_hist = vx_hist + list(sol.y[3])\n",
    "vy_hist = vy_hist + list(sol.y[4])\n",
    "vz_hist= vz_hist + list(sol.y[5])\n",
    "phi_hist = phi_hist + list(sol.y[6])\n",
    "theta_hist = theta_hist + list(sol.y[7])\n",
    "psi_hist = psi_hist + list(sol.y[8])\n",
    "omegax_hist = omegax_hist + list(sol.y[9])\n",
    "omegay_hist = omegay_hist + list(sol.y[10])\n",
    "omegaz_hist = omegaz_hist + list(sol.y[11])"
   ]
  },
  {
   "cell_type": "code",
   "execution_count": 84,
   "metadata": {},
   "outputs": [
    {
     "data": {
      "text/plain": [
       "(0.0, -0.04805573910760898, 2.3408643167637415e-05, 8.893742938623294)"
      ]
     },
     "execution_count": 84,
     "metadata": {},
     "output_type": "execute_result"
    }
   ],
   "source": [
    "#controls\n",
    "#propeller controls\n",
    "W = 8.828999999999999\n",
    "w = 18628.547125822548\n",
    "    #clockwise\n",
    "w1 = w + 2050\n",
    "w3 = w - 2000\n",
    "    #counter-clockwise\n",
    "w2 = w\n",
    "w4 = w\n",
    "\n",
    "body_forces(w1, w2, w3, w4)\n",
    "#47.091822474820404 * np.cos(init_theta)\n",
    "taux, tauy, tauz, fz = body_forces(w1, w2, w3, w4)\n",
    "body_forces(w1, w2, w3, w4)"
   ]
  },
  {
   "cell_type": "code",
   "execution_count": 85,
   "metadata": {},
   "outputs": [],
   "source": [
    "#stops moving forward\n",
    "\n",
    "#init_conditions\n",
    "px0 = px_hist[-1]\n",
    "py0 = py_hist[-1]\n",
    "pz0 = pz_hist[-1]\n",
    "vx0 = vx_hist[-1]\n",
    "vy0 = vy_hist[-1]\n",
    "vz0 = vz_hist[-1]\n",
    "phi0 = phi_hist[-1]\n",
    "theta0 = theta_hist[-1]\n",
    "psi0 = psi_hist[-1]\n",
    "omegax0 = omegax_hist[-1]\n",
    "omegay0 = omegay_hist[-1]\n",
    "omegaz0 = omegaz_hist[-1]\n",
    "\n",
    "t = (15.3, 15.71)\n",
    "\n",
    "init = [px0, py0, pz0, vx0, vy0, vz0, \n",
    "        phi0, theta0, psi0, omegax0, omegay0, omegaz0]\n",
    "\n",
    "#controls\n",
    "taux, tauy, tauz, fz = body_forces(w1, w2, w3, w4)\n",
    "\n",
    "para =(taux, tauy, tauz, fz)\n",
    "sol = solve_ivp(quad_EOM, t, init, max_step = 0.001, args = para)\n",
    "sol\n",
    "\n",
    "t_hist = t_hist + list(sol.t)\n",
    "px_hist = px_hist + list(sol.y[0])\n",
    "py_hist = py_hist + list(sol.y[1])\n",
    "pz_hist = pz_hist + list(sol.y[2])\n",
    "vx_hist = vx_hist + list(sol.y[3])\n",
    "vy_hist = vy_hist + list(sol.y[4])\n",
    "vz_hist= vz_hist + list(sol.y[5])\n",
    "phi_hist = phi_hist + list(sol.y[6])\n",
    "theta_hist = theta_hist + list(sol.y[7])\n",
    "psi_hist = psi_hist + list(sol.y[8])\n",
    "omegax_hist = omegax_hist + list(sol.y[9])\n",
    "omegay_hist = omegay_hist + list(sol.y[10])\n",
    "omegaz_hist = omegaz_hist + list(sol.y[11])"
   ]
  },
  {
   "cell_type": "code",
   "execution_count": 86,
   "metadata": {},
   "outputs": [
    {
     "data": {
      "text/plain": [
       "(0.0, 0.06744856053023093, 3.767445202227986e-05, 8.932762110952424)"
      ]
     },
     "execution_count": 86,
     "metadata": {},
     "output_type": "execute_result"
    }
   ],
   "source": [
    "#controls\n",
    "#propeller controls\n",
    "W = 8.828999999999999\n",
    "w = 18628.547125822548\n",
    "    #clockwise\n",
    "w1 = w-2846\n",
    "w3 = w+2846\n",
    "    #counter-clockwise\n",
    "w2 = w\n",
    "w4 = w\n",
    "\n",
    "body_forces(w1, w2, w3, w4)\n",
    "#47.091822474820404 * np.cos(init_theta)\n",
    "taux, tauy, tauz, fz = body_forces(w1, w2, w3, w4)\n",
    "fz\n",
    "body_forces(w1, w2, w3, w4)"
   ]
  },
  {
   "cell_type": "code",
   "execution_count": 87,
   "metadata": {},
   "outputs": [],
   "source": [
    "#stops moving forward\n",
    "\n",
    "#init_conditions\n",
    "px0 = px_hist[-1]\n",
    "py0 = py_hist[-1]\n",
    "pz0 = pz_hist[-1]\n",
    "vx0 = vx_hist[-1]\n",
    "vy0 = vy_hist[-1]\n",
    "vz0 = vz_hist[-1]\n",
    "phi0 = phi_hist[-1]\n",
    "theta0 = theta_hist[-1]\n",
    "psi0 = psi_hist[-1]\n",
    "omegax0 = omegax_hist[-1]\n",
    "omegay0 = omegay_hist[-1]\n",
    "omegaz0 = omegaz_hist[-1]\n",
    "\n",
    "t = (15.71, 16.455)\n",
    "\n",
    "init = [px0, py0, pz0, vx0, vy0, vz0, \n",
    "        phi0, theta0, psi0, omegax0, omegay0, omegaz0]\n",
    "\n",
    "#controls\n",
    "taux, tauy, tauz, fz = body_forces(w1, w2, w3, w4)\n",
    "\n",
    "para =(taux, tauy, tauz, fz)\n",
    "sol = solve_ivp(quad_EOM, t, init, max_step = 0.001, args = para)\n",
    "sol\n",
    "\n",
    "t_hist = t_hist + list(sol.t)\n",
    "px_hist = px_hist + list(sol.y[0])\n",
    "py_hist = py_hist + list(sol.y[1])\n",
    "pz_hist = pz_hist + list(sol.y[2])\n",
    "vx_hist = vx_hist + list(sol.y[3])\n",
    "vy_hist = vy_hist + list(sol.y[4])\n",
    "vz_hist= vz_hist + list(sol.y[5])\n",
    "phi_hist = phi_hist + list(sol.y[6])\n",
    "theta_hist = theta_hist + list(sol.y[7])\n",
    "psi_hist = psi_hist + list(sol.y[8])\n",
    "omegax_hist = omegax_hist + list(sol.y[9])\n",
    "omegay_hist = omegay_hist + list(sol.y[10])\n",
    "omegaz_hist = omegaz_hist + list(sol.y[11])"
   ]
  },
  {
   "cell_type": "code",
   "execution_count": 88,
   "metadata": {},
   "outputs": [
    {
     "data": {
      "text/plain": [
       "(0.0, -0.44145000000000006, 0.0016139863925766973, 13.243500000000001)"
      ]
     },
     "execution_count": 88,
     "metadata": {},
     "output_type": "execute_result"
    }
   ],
   "source": [
    "#controls\n",
    "#propeller controls\n",
    "W = 8.828999999999999\n",
    "w = 18627.79106464644\n",
    "    #clockwise\n",
    "w1 = w + 18627.79106464644\n",
    "w3 = w - 18627.79106464644\n",
    "    #counter-clockwise\n",
    "w2 = w\n",
    "w4 = w\n",
    "\n",
    "body_forces(w1, w2, w3, w4)\n",
    "#47.091822474820404 * np.cos(init_theta)\n",
    "taux, tauy, tauz, fz = body_forces(w1, w2, w3, w4)\n",
    "fz\n",
    "body_forces(w1, w2, w3, w4)"
   ]
  },
  {
   "cell_type": "code",
   "execution_count": 89,
   "metadata": {},
   "outputs": [],
   "source": [
    "#stops moving forward\n",
    "\n",
    "#init_conditions\n",
    "px0 = px_hist[-1]\n",
    "py0 = py_hist[-1]\n",
    "pz0 = pz_hist[-1]\n",
    "vx0 = vx_hist[-1]\n",
    "vy0 = vy_hist[-1]\n",
    "vz0 = vz_hist[-1]\n",
    "phi0 = phi_hist[-1]\n",
    "theta0 = theta_hist[-1]\n",
    "psi0 = psi_hist[-1]\n",
    "omegax0 = omegax_hist[-1]\n",
    "omegay0 = omegay_hist[-1]\n",
    "omegaz0 = omegaz_hist[-1]\n",
    "\n",
    "t = (16.455, 16.525)\n",
    "\n",
    "init = [px0, py0, pz0, vx0, vy0, vz0, \n",
    "        phi0, theta0, psi0, omegax0, omegay0, omegaz0]\n",
    "\n",
    "#controls\n",
    "taux, tauy, tauz, fz = body_forces(w1, w2, w3, w4)\n",
    "\n",
    "para =(taux, tauy, tauz, fz)\n",
    "sol = solve_ivp(quad_EOM, t, init, max_step = 0.001, args = para)\n",
    "sol\n",
    "\n",
    "t_hist = t_hist + list(sol.t)\n",
    "px_hist = px_hist + list(sol.y[0])\n",
    "py_hist = py_hist + list(sol.y[1])\n",
    "pz_hist = pz_hist + list(sol.y[2])\n",
    "vx_hist = vx_hist + list(sol.y[3])\n",
    "vy_hist = vy_hist + list(sol.y[4])\n",
    "vz_hist= vz_hist + list(sol.y[5])\n",
    "phi_hist = phi_hist + list(sol.y[6])\n",
    "theta_hist = theta_hist + list(sol.y[7])\n",
    "psi_hist = psi_hist + list(sol.y[8])\n",
    "omegax_hist = omegax_hist + list(sol.y[9])\n",
    "omegay_hist = omegay_hist + list(sol.y[10])\n",
    "omegaz_hist = omegaz_hist + list(sol.y[11])"
   ]
  },
  {
   "cell_type": "markdown",
   "metadata": {},
   "source": [
    "SECOND HOVER POSITION (REST STATE)"
   ]
  },
  {
   "cell_type": "code",
   "execution_count": 90,
   "metadata": {},
   "outputs": [
    {
     "data": {
      "text/plain": [
       "(0.0, 0.0, 0.0010138394959786606, 8.829151775552646)"
      ]
     },
     "execution_count": 90,
     "metadata": {},
     "output_type": "execute_result"
    }
   ],
   "source": [
    "#controls\n",
    "#propeller controls\n",
    "W = 8.828999999999999\n",
    "w = 18627.79106464644\n",
    "    #clockwise\n",
    "cw = 2726\n",
    "w1 = w + cw\n",
    "w3 = w + cw\n",
    "    #counter-clockwise\n",
    "ccw = 3200#1.027592459233804 * cw\n",
    "w2 = w - ccw\n",
    "w4 = w - ccw\n",
    "\n",
    "body_forces(w1, w2, w3, w4)\n",
    "#47.091822474820404 * np.cos(init_theta)\n",
    "taux, tauy, tauz, fz = body_forces(w1, w2, w3, w4)\n",
    "body_forces(w1, w2, w3, w4)"
   ]
  },
  {
   "cell_type": "code",
   "execution_count": 91,
   "metadata": {},
   "outputs": [],
   "source": [
    "#yaw\n",
    "\n",
    "#init_conditions\n",
    "px0 = px_hist[-1]\n",
    "py0 = py_hist[-1]\n",
    "pz0 = pz_hist[-1]\n",
    "vx0 = 0\n",
    "vy0 = 0\n",
    "vz0 = 0\n",
    "phi0 = 0\n",
    "theta0 = 0\n",
    "psi0 = 0\n",
    "omegax0 = 0\n",
    "omegay0 = 0\n",
    "omegaz0 = 0\n",
    "\n",
    "t = (16.525, 27)\n",
    "\n",
    "init = [px0, py0, pz0, vx0, vy0, vz0, \n",
    "        phi0, theta0, psi0, omegax0, omegay0, omegaz0]\n",
    "\n",
    "#controls\n",
    "taux, tauy, tauz, fz = body_forces(w1, w2, w3, w4)\n",
    "\n",
    "para =(taux, tauy, tauz, fz)\n",
    "sol = solve_ivp(quad_EOM, t, init, max_step = 0.001, args = para)\n",
    "sol\n",
    "\n",
    "t_hist = t_hist + list(sol.t)\n",
    "px_hist = px_hist + list(sol.y[0])\n",
    "py_hist = py_hist + list(sol.y[1])\n",
    "pz_hist = pz_hist + list(sol.y[2])\n",
    "vx_hist = vx_hist + list(sol.y[3])\n",
    "vy_hist = vy_hist + list(sol.y[4])\n",
    "vz_hist= vz_hist + list(sol.y[5])\n",
    "phi_hist = phi_hist + list(sol.y[6])\n",
    "theta_hist = theta_hist + list(sol.y[7])\n",
    "psi_hist = psi_hist + list(sol.y[8])\n",
    "omegax_hist = omegax_hist + list(sol.y[9])\n",
    "omegay_hist = omegay_hist + list(sol.y[10])\n",
    "omegaz_hist = omegaz_hist + list(sol.y[11])"
   ]
  },
  {
   "cell_type": "code",
   "execution_count": 92,
   "metadata": {},
   "outputs": [
    {
     "data": {
      "text/plain": [
       "(0.0, 0.0, -0.0010137838751670888, 8.82899964411349)"
      ]
     },
     "execution_count": 92,
     "metadata": {},
     "output_type": "execute_result"
    }
   ],
   "source": [
    "#controls\n",
    "#propeller controls\n",
    "W = 8.828999999999999\n",
    "w = 18627.79106464644\n",
    "    #clockwise\n",
    "cw = 3200\n",
    "w1 = w - cw\n",
    "w3 = w - cw\n",
    "    #counter-clockwise\n",
    "ccw = 2725.72\n",
    "w2 = w + ccw\n",
    "w4 = w + ccw\n",
    "\n",
    "body_forces(w1, w2, w3, w4)\n",
    "#47.091822474820404 * np.cos(init_theta)\n",
    "taux, tauy, tauz, fz = body_forces(w1, w2, w3, w4)\n",
    "body_forces(w1, w2, w3, w4)"
   ]
  },
  {
   "cell_type": "code",
   "execution_count": 93,
   "metadata": {},
   "outputs": [],
   "source": [
    "#yaw\n",
    "\n",
    "#init_conditions\n",
    "px0 = px_hist[-1]\n",
    "py0 = py_hist[-1]\n",
    "pz0 = pz_hist[-1]\n",
    "vx0 = vx_hist[-1]\n",
    "vy0 = vy_hist[-1]\n",
    "vz0 = vz_hist[-1]\n",
    "phi0 = phi_hist[-1]\n",
    "theta0 = theta_hist[-1]\n",
    "psi0 = psi_hist[-1]\n",
    "omegax0 = omegax_hist[-1]\n",
    "omegay0 = omegay_hist[-1]\n",
    "omegaz0 = omegaz_hist[-1]\n",
    "\n",
    "t = (27, 37.75)\n",
    "\n",
    "init = [px0, py0, pz0, vx0, vy0, vz0, \n",
    "        phi0, theta0, psi0, omegax0, omegay0, omegaz0]\n",
    "\n",
    "#controls\n",
    "taux, tauy, tauz, fz = body_forces(w1, w2, w3, w4)\n",
    "\n",
    "para =(taux, tauy, tauz, fz)\n",
    "sol = solve_ivp(quad_EOM, t, init, max_step = 0.001, args = para)\n",
    "sol\n",
    "\n",
    "t_hist = t_hist + list(sol.t)\n",
    "px_hist = px_hist + list(sol.y[0])\n",
    "py_hist = py_hist + list(sol.y[1])\n",
    "pz_hist = pz_hist + list(sol.y[2])\n",
    "vx_hist = vx_hist + list(sol.y[3])\n",
    "vy_hist = vy_hist + list(sol.y[4])\n",
    "vz_hist= vz_hist + list(sol.y[5])\n",
    "phi_hist = phi_hist + list(sol.y[6])\n",
    "theta_hist = theta_hist + list(sol.y[7])\n",
    "psi_hist = psi_hist + list(sol.y[8])\n",
    "omegax_hist = omegax_hist + list(sol.y[9])\n",
    "omegay_hist = omegay_hist + list(sol.y[10])\n",
    "omegaz_hist = omegaz_hist + list(sol.y[11])"
   ]
  },
  {
   "cell_type": "markdown",
   "metadata": {},
   "source": [
    "STABLE - YAWED"
   ]
  },
  {
   "cell_type": "code",
   "execution_count": 94,
   "metadata": {},
   "outputs": [
    {
     "data": {
      "text/plain": [
       "(0.0, 0.011849711969471351, 1.1628325e-06, 8.832897239028824)"
      ]
     },
     "execution_count": 94,
     "metadata": {},
     "output_type": "execute_result"
    }
   ],
   "source": [
    "#controls\n",
    "#propeller controls\n",
    "W = 8.828999999999999\n",
    "w = 18628.547125822548\n",
    "    #clockwise\n",
    "w1 = w-500\n",
    "w3 = w+500\n",
    "    #counter-clockwise\n",
    "w2 = w\n",
    "w4 = w\n",
    "\n",
    "body_forces(w1, w2, w3, w4)\n",
    "#47.091822474820404 * np.cos(init_theta)\n",
    "taux, tauy, tauz, fz = body_forces(w1, w2, w3, w4)\n",
    "fz\n",
    "body_forces(w1, w2, w3, w4)"
   ]
  },
  {
   "cell_type": "code",
   "execution_count": 95,
   "metadata": {},
   "outputs": [],
   "source": [
    "#new straight\n",
    "\n",
    "#init_conditions\n",
    "px0 = px_hist[-1]\n",
    "py0 = py_hist[-1]\n",
    "pz0 = pz_hist[-1]\n",
    "vx0 = vx_hist[-1]\n",
    "vy0 = vy_hist[-1]\n",
    "vz0 = vz_hist[-1]\n",
    "phi0 = phi_hist[-1]\n",
    "theta0 = theta_hist[-1]\n",
    "psi0 = psi_hist[-1]\n",
    "omegax0 = omegax_hist[-1]\n",
    "omegay0 = omegay_hist[-1]\n",
    "omegaz0 = omegaz_hist[-1]\n",
    "\n",
    "t = (37.75, 38.439)\n",
    "\n",
    "init = [px0, py0, pz0, vx0, vy0, vz0, \n",
    "        phi0, theta0, psi0, omegax0, omegay0, omegaz0]\n",
    "\n",
    "#controls\n",
    "taux, tauy, tauz, fz = body_forces(w1, w2, w3, w4)\n",
    "\n",
    "para =(taux, tauy, tauz, fz)\n",
    "sol = solve_ivp(quad_EOM, t, init, max_step = 0.001, args = para)\n",
    "sol\n",
    "\n",
    "t_hist = t_hist + list(sol.t)\n",
    "px_hist = px_hist + list(sol.y[0])\n",
    "py_hist = py_hist + list(sol.y[1])\n",
    "pz_hist = pz_hist + list(sol.y[2])\n",
    "vx_hist = vx_hist + list(sol.y[3])\n",
    "vy_hist = vy_hist + list(sol.y[4])\n",
    "vz_hist= vz_hist + list(sol.y[5])\n",
    "phi_hist = phi_hist + list(sol.y[6])\n",
    "theta_hist = theta_hist + list(sol.y[7])\n",
    "psi_hist = psi_hist + list(sol.y[8])\n",
    "omegax_hist = omegax_hist + list(sol.y[9])\n",
    "omegay_hist = omegay_hist + list(sol.y[10])\n",
    "omegaz_hist = omegaz_hist + list(sol.y[11])"
   ]
  },
  {
   "cell_type": "code",
   "execution_count": 96,
   "metadata": {},
   "outputs": [
    {
     "data": {
      "text/plain": [
       "(0.0, -0.03554913590841405, 1.04654925e-05, 8.858341439028825)"
      ]
     },
     "execution_count": 96,
     "metadata": {},
     "output_type": "execute_result"
    }
   ],
   "source": [
    "#controls\n",
    "#propeller controls\n",
    "W = 8.828999999999999\n",
    "w = 18628.547125822548\n",
    "    #clockwise\n",
    "w1 = w +1500\n",
    "w3 = w -1500\n",
    "    #counter-clockwise\n",
    "w2 = w\n",
    "w4 = w\n",
    "\n",
    "body_forces(w1, w2, w3, w4)\n",
    "#47.091822474820404 * np.cos(init_theta)\n",
    "taux, tauy, tauz, fz = body_forces(w1, w2, w3, w4)\n",
    "body_forces(w1, w2, w3, w4)"
   ]
  },
  {
   "cell_type": "code",
   "execution_count": 97,
   "metadata": {},
   "outputs": [],
   "source": [
    "#new straight\n",
    "\n",
    "#init_conditions\n",
    "px0 = px_hist[-1]\n",
    "py0 = py_hist[-1]\n",
    "pz0 = pz_hist[-1]\n",
    "vx0 = vx_hist[-1]\n",
    "vy0 = vy_hist[-1]\n",
    "vz0 = vz_hist[-1]\n",
    "phi0 = phi_hist[-1]\n",
    "theta0 = theta_hist[-1]\n",
    "psi0 = psi_hist[-1]\n",
    "omegax0 = omegax_hist[-1]\n",
    "omegay0 = omegay_hist[-1]\n",
    "omegaz0 = omegaz_hist[-1]\n",
    "\n",
    "t = (38.439, 38.789)\n",
    "\n",
    "init = [px0, py0, pz0, vx0, vy0, vz0, \n",
    "        phi0, theta0, psi0, omegax0, omegay0, omegaz0]\n",
    "\n",
    "#controls\n",
    "taux, tauy, tauz, fz = body_forces(w1, w2, w3, w4)\n",
    "\n",
    "para =(taux, tauy, tauz, fz)\n",
    "sol = solve_ivp(quad_EOM, t, init, max_step = 0.001, args = para)\n",
    "sol\n",
    "\n",
    "t_hist = t_hist + list(sol.t)\n",
    "px_hist = px_hist + list(sol.y[0])\n",
    "py_hist = py_hist + list(sol.y[1])\n",
    "pz_hist = pz_hist + list(sol.y[2])\n",
    "vx_hist = vx_hist + list(sol.y[3])\n",
    "vy_hist = vy_hist + list(sol.y[4])\n",
    "vz_hist= vz_hist + list(sol.y[5])\n",
    "phi_hist = phi_hist + list(sol.y[6])\n",
    "theta_hist = theta_hist + list(sol.y[7])\n",
    "psi_hist = psi_hist + list(sol.y[8])\n",
    "omegax_hist = omegax_hist + list(sol.y[9])\n",
    "omegay_hist = omegay_hist + list(sol.y[10])\n",
    "omegaz_hist = omegaz_hist + list(sol.y[11])"
   ]
  },
  {
   "cell_type": "code",
   "execution_count": 98,
   "metadata": {},
   "outputs": [
    {
     "data": {
      "text/plain": [
       "(0.0, 0.0, 0.0, 8.829716714028825)"
      ]
     },
     "execution_count": 98,
     "metadata": {},
     "output_type": "execute_result"
    }
   ],
   "source": [
    "#controls\n",
    "#propeller controls\n",
    "W = 8.828999999999999\n",
    "w = 18628.547125822548\n",
    "    #clockwise\n",
    "w1 = w\n",
    "w3 = w\n",
    "    #counter-clockwise\n",
    "w2 = w\n",
    "w4 = w\n",
    "\n",
    "body_forces(w1, w2, w3, w4)\n",
    "#47.091822474820404 * np.cos(init_theta)\n",
    "taux, tauy, tauz, fz = body_forces(w1, w2, w3, w4)\n",
    "body_forces(w1, w2, w3, w4)"
   ]
  },
  {
   "cell_type": "code",
   "execution_count": 99,
   "metadata": {},
   "outputs": [],
   "source": [
    "#new straight\n",
    "\n",
    "#init_conditions\n",
    "px0 = px_hist[-1]\n",
    "py0 = py_hist[-1]\n",
    "pz0 = pz_hist[-1]\n",
    "vx0 = vx_hist[-1]\n",
    "vy0 = vy_hist[-1]\n",
    "vz0 = vz_hist[-1]\n",
    "phi0 = phi_hist[-1]\n",
    "theta0 = theta_hist[-1]\n",
    "psi0 = psi_hist[-1]\n",
    "omegax0 = omegax_hist[-1]\n",
    "omegay0 = omegay_hist[-1]\n",
    "omegaz0 = omegaz_hist[-1]\n",
    "\n",
    "t = (38.789, 39.439)\n",
    "\n",
    "\n",
    "init = [px0, py0, pz0, vx0, vy0, vz0, \n",
    "        phi0, theta0, psi0, omegax0, omegay0, omegaz0]\n",
    "\n",
    "#controls\n",
    "taux, tauy, tauz, fz = body_forces(w1, w2, w3, w4)\n",
    "\n",
    "para =(taux, tauy, tauz, fz)\n",
    "sol = solve_ivp(quad_EOM, t, init, max_step = 0.001, args = para)\n",
    "sol\n",
    "\n",
    "t_hist = t_hist + list(sol.t)\n",
    "px_hist = px_hist + list(sol.y[0])\n",
    "py_hist = py_hist + list(sol.y[1])\n",
    "pz_hist = pz_hist + list(sol.y[2])\n",
    "vx_hist = vx_hist + list(sol.y[3])\n",
    "vy_hist = vy_hist + list(sol.y[4])\n",
    "vz_hist= vz_hist + list(sol.y[5])\n",
    "phi_hist = phi_hist + list(sol.y[6])\n",
    "theta_hist = theta_hist + list(sol.y[7])\n",
    "psi_hist = psi_hist + list(sol.y[8])\n",
    "omegax_hist = omegax_hist + list(sol.y[9])\n",
    "omegay_hist = omegay_hist + list(sol.y[10])\n",
    "omegaz_hist = omegaz_hist + list(sol.y[11])"
   ]
  },
  {
   "cell_type": "code",
   "execution_count": 100,
   "metadata": {},
   "outputs": [
    {
     "data": {
      "text/plain": [
       "(0.0, 0.012892486622784843, 1.3764959948798613e-06, 8.833481641414425)"
      ]
     },
     "execution_count": 100,
     "metadata": {},
     "output_type": "execute_result"
    }
   ],
   "source": [
    "#controls\n",
    "#propeller controls\n",
    "W = 8.828999999999999\n",
    "w = 18628.547125822548\n",
    "    #clockwise\n",
    "w1 = w - 544\n",
    "w3 = w + 544\n",
    "    #counter-clockwise\n",
    "w2 = w\n",
    "w4 = w\n",
    "\n",
    "body_forces(w1, w2, w3, w4)\n",
    "#47.091822474820404 * np.cos(init_theta)\n",
    "taux, tauy, tauz, fz = body_forces(w1, w2, w3, w4)\n",
    "body_forces(w1, w2, w3, w4)"
   ]
  },
  {
   "cell_type": "code",
   "execution_count": 101,
   "metadata": {},
   "outputs": [],
   "source": [
    "#new straight\n",
    "\n",
    "#init_conditions\n",
    "px0 = px_hist[-1]\n",
    "py0 = py_hist[-1]\n",
    "pz0 = pz_hist[-1]\n",
    "vx0 = vx_hist[-1]\n",
    "vy0 = vy_hist[-1]\n",
    "vz0 = vz_hist[-1]\n",
    "phi0 = phi_hist[-1]\n",
    "theta0 = theta_hist[-1]\n",
    "psi0 = psi_hist[-1]\n",
    "omegax0 = omegax_hist[-1]\n",
    "omegay0 = omegay_hist[-1]\n",
    "omegaz0 = omegaz_hist[-1]\n",
    "\n",
    "t = (39.439, 39.779)\n",
    "\n",
    "init = [px0, py0, pz0, vx0, vy0, vz0, \n",
    "        phi0, theta0, psi0, omegax0, omegay0, omegaz0]\n",
    "\n",
    "#controls\n",
    "taux, tauy, tauz, fz = body_forces(w1, w2, w3, w4)\n",
    "\n",
    "para =(taux, tauy, tauz, fz)\n",
    "sol = solve_ivp(quad_EOM, t, init, max_step = 0.001, args = para)\n",
    "sol\n",
    "\n",
    "t_hist = t_hist + list(sol.t)\n",
    "px_hist = px_hist + list(sol.y[0])\n",
    "py_hist = py_hist + list(sol.y[1])\n",
    "pz_hist = pz_hist + list(sol.y[2])\n",
    "vx_hist = vx_hist + list(sol.y[3])\n",
    "vy_hist = vy_hist + list(sol.y[4])\n",
    "vz_hist= vz_hist + list(sol.y[5])\n",
    "phi_hist = phi_hist + list(sol.y[6])\n",
    "theta_hist = theta_hist + list(sol.y[7])\n",
    "psi_hist = psi_hist + list(sol.y[8])\n",
    "omegax_hist = omegax_hist + list(sol.y[9])\n",
    "omegay_hist = omegay_hist + list(sol.y[10])\n",
    "omegaz_hist = omegaz_hist + list(sol.y[11])"
   ]
  },
  {
   "cell_type": "code",
   "execution_count": 102,
   "metadata": {},
   "outputs": [
    {
     "data": {
      "text/plain": [
       "(0.0, 0.0, 0.0, 8.834457234921613)"
      ]
     },
     "execution_count": 102,
     "metadata": {},
     "output_type": "execute_result"
    }
   ],
   "source": [
    "#controls\n",
    "#propeller controls\n",
    "W = 8.828999999999999\n",
    "w = 18628.547125822548 + 5\n",
    "    #clockwise\n",
    "w1 = w \n",
    "w3 = w \n",
    "    #counter-clockwise\n",
    "w2 = w\n",
    "w4 = w\n",
    "\n",
    "body_forces(w1, w2, w3, w4)\n",
    "#47.091822474820404 * np.cos(init_theta)\n",
    "taux, tauy, tauz, fz = body_forces(w1, w2, w3, w4)\n",
    "body_forces(w1, w2, w3, w4)"
   ]
  },
  {
   "cell_type": "code",
   "execution_count": 103,
   "metadata": {},
   "outputs": [],
   "source": [
    "#new straight\n",
    "\n",
    "#init_conditions\n",
    "px0 = px_hist[-1]\n",
    "py0 = py_hist[-1]\n",
    "pz0 = pz_hist[-1]\n",
    "vx0 = vx_hist[-1]\n",
    "vy0 = vy_hist[-1]\n",
    "vz0 = vz_hist[-1]\n",
    "phi0 = phi_hist[-1]\n",
    "theta0 = theta_hist[-1]\n",
    "psi0 = psi_hist[-1]\n",
    "omegax0 = omegax_hist[-1]\n",
    "omegay0 = omegay_hist[-1]\n",
    "omegaz0 = omegaz_hist[-1]\n",
    "\n",
    "t = (39.779, 43.139)\n",
    "\n",
    "init = [px0, py0, pz0, vx0, vy0, vz0, \n",
    "        phi0, theta0, psi0, omegax0, omegay0, omegaz0]\n",
    "\n",
    "#controls\n",
    "taux, tauy, tauz, fz = body_forces(w1, w2, w3, w4)\n",
    "\n",
    "para =(taux, tauy, tauz, fz)\n",
    "sol = solve_ivp(quad_EOM, t, init, max_step = 0.001, args = para)\n",
    "sol\n",
    "\n",
    "t_hist = t_hist + list(sol.t)\n",
    "px_hist = px_hist + list(sol.y[0])\n",
    "py_hist = py_hist + list(sol.y[1])\n",
    "pz_hist = pz_hist + list(sol.y[2])\n",
    "vx_hist = vx_hist + list(sol.y[3])\n",
    "vy_hist = vy_hist + list(sol.y[4])\n",
    "vz_hist= vz_hist + list(sol.y[5])\n",
    "phi_hist = phi_hist + list(sol.y[6])\n",
    "theta_hist = theta_hist + list(sol.y[7])\n",
    "psi_hist = psi_hist + list(sol.y[8])\n",
    "omegax_hist = omegax_hist + list(sol.y[9])\n",
    "omegay_hist = omegay_hist + list(sol.y[10])\n",
    "omegaz_hist = omegaz_hist + list(sol.y[11])"
   ]
  },
  {
   "cell_type": "markdown",
   "metadata": {},
   "source": [
    "workin so far"
   ]
  },
  {
   "cell_type": "code",
   "execution_count": 104,
   "metadata": {},
   "outputs": [
    {
     "data": {
      "text/plain": [
       "(0.0, -0.04805573910760898, 2.3408643167637415e-05, 8.893742938623294)"
      ]
     },
     "execution_count": 104,
     "metadata": {},
     "output_type": "execute_result"
    }
   ],
   "source": [
    "#controls\n",
    "#propeller controls\n",
    "W = 8.828999999999999\n",
    "w = 18628.547125822548\n",
    "    #clockwise\n",
    "w1 = w + 2050\n",
    "w3 = w - 2000\n",
    "    #counter-clockwise\n",
    "w2 = w\n",
    "w4 = w\n",
    "\n",
    "body_forces(w1, w2, w3, w4)\n",
    "#47.091822474820404 * np.cos(init_theta)\n",
    "taux, tauy, tauz, fz = body_forces(w1, w2, w3, w4)\n",
    "body_forces(w1, w2, w3, w4)"
   ]
  },
  {
   "cell_type": "code",
   "execution_count": 105,
   "metadata": {},
   "outputs": [],
   "source": [
    "#new straight\n",
    "\n",
    "#init_conditions\n",
    "px0 = px_hist[-1]\n",
    "py0 = py_hist[-1]\n",
    "pz0 = pz_hist[-1]\n",
    "vx0 = vx_hist[-1]\n",
    "vy0 = vy_hist[-1]\n",
    "vz0 = vz_hist[-1]\n",
    "phi0 = phi_hist[-1]\n",
    "theta0 = theta_hist[-1]\n",
    "psi0 = psi_hist[-1]\n",
    "omegax0 = omegax_hist[-1]\n",
    "omegay0 = omegay_hist[-1]\n",
    "omegaz0 = omegaz_hist[-1]\n",
    "\n",
    "t = (43.139, 43.549)\n",
    "\n",
    "init = [px0, py0, pz0, vx0, vy0, vz0, \n",
    "        phi0, theta0, psi0, omegax0, omegay0, omegaz0]\n",
    "\n",
    "#controls\n",
    "taux, tauy, tauz, fz = body_forces(w1, w2, w3, w4)\n",
    "\n",
    "para =(taux, tauy, tauz, fz)\n",
    "sol = solve_ivp(quad_EOM, t, init, max_step = 0.001, args = para)\n",
    "sol\n",
    "\n",
    "t_hist = t_hist + list(sol.t)\n",
    "px_hist = px_hist + list(sol.y[0])\n",
    "py_hist = py_hist + list(sol.y[1])\n",
    "pz_hist = pz_hist + list(sol.y[2])\n",
    "vx_hist = vx_hist + list(sol.y[3])\n",
    "vy_hist = vy_hist + list(sol.y[4])\n",
    "vz_hist= vz_hist + list(sol.y[5])\n",
    "phi_hist = phi_hist + list(sol.y[6])\n",
    "theta_hist = theta_hist + list(sol.y[7])\n",
    "psi_hist = psi_hist + list(sol.y[8])\n",
    "omegax_hist = omegax_hist + list(sol.y[9])\n",
    "omegay_hist = omegay_hist + list(sol.y[10])\n",
    "omegaz_hist = omegaz_hist + list(sol.y[11])"
   ]
  },
  {
   "cell_type": "code",
   "execution_count": 106,
   "metadata": {},
   "outputs": [],
   "source": [
    "#controls\n",
    "#propeller controls\n",
    "W = 8.828999999999999\n",
    "w = 18628.547125822548\n",
    "    #clockwise\n",
    "w1 = w-2846\n",
    "w3 = w+2846\n",
    "    #counter-clockwise\n",
    "w2 = w\n",
    "w4 = w\n",
    "\n",
    "body_forces(w1, w2, w3, w4)\n",
    "#47.091822474820404 * np.cos(init_theta)\n",
    "taux, tauy, tauz, fz = body_forces(w1, w2, w3, w4)\n",
    "fz\n",
    "body_forces(w1, w2, w3, w4)\n",
    "t = (15.71, 16.455)"
   ]
  },
  {
   "cell_type": "code",
   "execution_count": 107,
   "metadata": {},
   "outputs": [],
   "source": [
    "#new straight\n",
    "\n",
    "#init_conditions\n",
    "px0 = px_hist[-1]\n",
    "py0 = py_hist[-1]\n",
    "pz0 = pz_hist[-1]\n",
    "vx0 = vx_hist[-1]\n",
    "vy0 = vy_hist[-1]\n",
    "vz0 = vz_hist[-1]\n",
    "phi0 = phi_hist[-1]\n",
    "theta0 = theta_hist[-1]\n",
    "psi0 = psi_hist[-1]\n",
    "omegax0 = omegax_hist[-1]\n",
    "omegay0 = omegay_hist[-1]\n",
    "omegaz0 = omegaz_hist[-1]\n",
    "\n",
    "t = (43.549, 44.294)\n",
    "\n",
    "init = [px0, py0, pz0, vx0, vy0, vz0, \n",
    "        phi0, theta0, psi0, omegax0, omegay0, omegaz0]\n",
    "\n",
    "#controls\n",
    "taux, tauy, tauz, fz = body_forces(w1, w2, w3, w4)\n",
    "\n",
    "para =(taux, tauy, tauz, fz)\n",
    "sol = solve_ivp(quad_EOM, t, init, max_step = 0.001, args = para)\n",
    "sol\n",
    "\n",
    "t_hist = t_hist + list(sol.t)\n",
    "px_hist = px_hist + list(sol.y[0])\n",
    "py_hist = py_hist + list(sol.y[1])\n",
    "pz_hist = pz_hist + list(sol.y[2])\n",
    "vx_hist = vx_hist + list(sol.y[3])\n",
    "vy_hist = vy_hist + list(sol.y[4])\n",
    "vz_hist= vz_hist + list(sol.y[5])\n",
    "phi_hist = phi_hist + list(sol.y[6])\n",
    "theta_hist = theta_hist + list(sol.y[7])\n",
    "psi_hist = psi_hist + list(sol.y[8])\n",
    "omegax_hist = omegax_hist + list(sol.y[9])\n",
    "omegay_hist = omegay_hist + list(sol.y[10])\n",
    "omegaz_hist = omegaz_hist + list(sol.y[11])"
   ]
  },
  {
   "cell_type": "code",
   "execution_count": 108,
   "metadata": {},
   "outputs": [
    {
     "data": {
      "text/plain": [
       "(0.0, -0.44145000000000006, 0.0016139863925766973, 13.243500000000001)"
      ]
     },
     "execution_count": 108,
     "metadata": {},
     "output_type": "execute_result"
    }
   ],
   "source": [
    "#controls\n",
    "#propeller controls\n",
    "W = 8.828999999999999\n",
    "w = 18627.79106464644\n",
    "    #clockwise\n",
    "w1 = w + 18627.79106464644\n",
    "w3 = w - 18627.79106464644\n",
    "    #counter-clockwise\n",
    "w2 = w\n",
    "w4 = w\n",
    "\n",
    "body_forces(w1, w2, w3, w4)\n",
    "#47.091822474820404 * np.cos(init_theta)\n",
    "taux, tauy, tauz, fz = body_forces(w1, w2, w3, w4)\n",
    "fz\n",
    "body_forces(w1, w2, w3, w4)"
   ]
  },
  {
   "cell_type": "code",
   "execution_count": 109,
   "metadata": {},
   "outputs": [],
   "source": [
    "#new straight\n",
    "#init_conditions\n",
    "px0 = px_hist[-1]\n",
    "py0 = py_hist[-1]\n",
    "pz0 = pz_hist[-1]\n",
    "vx0 = vx_hist[-1]\n",
    "vy0 = vy_hist[-1]\n",
    "vz0 = vz_hist[-1]\n",
    "phi0 = phi_hist[-1]\n",
    "theta0 = theta_hist[-1]\n",
    "psi0 = psi_hist[-1]\n",
    "omegax0 = omegax_hist[-1]\n",
    "omegay0 = omegay_hist[-1]\n",
    "omegaz0 = omegaz_hist[-1]\n",
    "\n",
    "t = (44.294, 44.364)\n",
    "\n",
    "init = [px0, py0, pz0, vx0, vy0, vz0, \n",
    "        phi0, theta0, psi0, omegax0, omegay0, omegaz0]\n",
    "\n",
    "#controls\n",
    "taux, tauy, tauz, fz = body_forces(w1, w2, w3, w4)\n",
    "\n",
    "para =(taux, tauy, tauz, fz)\n",
    "sol = solve_ivp(quad_EOM, t, init, max_step = 0.001, args = para)\n",
    "sol\n",
    "\n",
    "t_hist = t_hist + list(sol.t)\n",
    "px_hist = px_hist + list(sol.y[0])\n",
    "py_hist = py_hist + list(sol.y[1])\n",
    "pz_hist = pz_hist + list(sol.y[2])\n",
    "vx_hist = vx_hist + list(sol.y[3])\n",
    "vy_hist = vy_hist + list(sol.y[4])\n",
    "vz_hist= vz_hist + list(sol.y[5])\n",
    "phi_hist = phi_hist + list(sol.y[6])\n",
    "theta_hist = theta_hist + list(sol.y[7])\n",
    "psi_hist = psi_hist + list(sol.y[8])\n",
    "omegax_hist = omegax_hist + list(sol.y[9])\n",
    "omegay_hist = omegay_hist + list(sol.y[10])\n",
    "omegaz_hist = omegaz_hist + list(sol.y[11])"
   ]
  },
  {
   "cell_type": "markdown",
   "metadata": {},
   "source": [
    "START DESCENT"
   ]
  },
  {
   "cell_type": "code",
   "execution_count": 110,
   "metadata": {},
   "outputs": [
    {
     "data": {
      "text/plain": [
       "(0.0, 0.0, 0.0, 7.034899834371693)"
      ]
     },
     "execution_count": 110,
     "metadata": {},
     "output_type": "execute_result"
    }
   ],
   "source": [
    "#controls\n",
    "#propeller controls\n",
    "W = 8.828999999999999\n",
    "w = 18627.79106464644-2000\n",
    "    #clockwise\n",
    "w1 = w\n",
    "w3 = w\n",
    "    #counter-clockwise\n",
    "w2 = w\n",
    "w4 = w\n",
    "\n",
    "body_forces(w1, w2, w3, w4)\n",
    "#47.091822474820404 * np.cos(init_theta)\n",
    "taux, tauy, tauz, fz = body_forces(w1, w2, w3, w4)\n",
    "fz\n",
    "body_forces(w1, w2, w3, w4)"
   ]
  },
  {
   "cell_type": "code",
   "execution_count": 111,
   "metadata": {},
   "outputs": [],
   "source": [
    "#init_conditions\n",
    "px0 = px_hist[-1]\n",
    "py0 = py_hist[-1]\n",
    "pz0 = pz_hist[-1]\n",
    "vx0 = 0\n",
    "vy0 = 0\n",
    "vz0 = vz_hist[-1]\n",
    "phi0 = 0\n",
    "theta0 = 0\n",
    "psi0 = 0\n",
    "omegax0 = 0\n",
    "omegay0 = 0\n",
    "omegaz0 = 0\n",
    "\n",
    "t = (44.364, 44.8)\n",
    "\n",
    "init = [px0, py0, pz0, vx0, vy0, vz0, \n",
    "        phi0, theta0, psi0, omegax0, omegay0, omegaz0]\n",
    "\n",
    "#controls\n",
    "taux, tauy, tauz, fz = body_forces(w1, w2, w3, w4)\n",
    "\n",
    "para =(taux, tauy, tauz, fz)\n",
    "sol = solve_ivp(quad_EOM, t, init, max_step = 0.001, args = para)\n",
    "sol\n",
    "\n",
    "t_hist = t_hist + list(sol.t)\n",
    "px_hist = px_hist + list(sol.y[0])\n",
    "py_hist = py_hist + list(sol.y[1])\n",
    "pz_hist = pz_hist + list(sol.y[2])\n",
    "vx_hist = vx_hist + list(sol.y[3])\n",
    "vy_hist = vy_hist + list(sol.y[4])\n",
    "vz_hist= vz_hist + list(sol.y[5])\n",
    "phi_hist = phi_hist + list(sol.y[6])\n",
    "theta_hist = theta_hist + list(sol.y[7])\n",
    "psi_hist = psi_hist + list(sol.y[8])\n",
    "omegax_hist = omegax_hist + list(sol.y[9])\n",
    "omegay_hist = omegay_hist + list(sol.y[10])\n",
    "omegaz_hist = omegaz_hist + list(sol.y[11])"
   ]
  },
  {
   "cell_type": "code",
   "execution_count": 112,
   "metadata": {},
   "outputs": [
    {
     "data": {
      "text/plain": [
       "(0.0, 0.0, 0.0, 8.829)"
      ]
     },
     "execution_count": 112,
     "metadata": {},
     "output_type": "execute_result"
    }
   ],
   "source": [
    "#controls\n",
    "#propeller controls\n",
    "W = 8.828999999999999\n",
    "w = 18627.79106464644 \n",
    "    #clockwise\n",
    "w1 = w\n",
    "w3 = w\n",
    "    #counter-clockwise\n",
    "w2 = w\n",
    "w4 = w\n",
    "\n",
    "body_forces(w1, w2, w3, w4)\n",
    "#47.091822474820404 * np.cos(init_theta)\n",
    "taux, tauy, tauz, fz = body_forces(w1, w2, w3, w4)\n",
    "fz\n",
    "body_forces(w1, w2, w3, w4)"
   ]
  },
  {
   "cell_type": "code",
   "execution_count": 113,
   "metadata": {},
   "outputs": [],
   "source": [
    "#init_conditions\n",
    "px0 = px_hist[-1]\n",
    "py0 = py_hist[-1]\n",
    "pz0 = pz_hist[-1]\n",
    "vx0 = vx_hist[-1]\n",
    "vy0 = vy_hist[-1]\n",
    "vz0 = vz_hist[-1]\n",
    "phi0 = phi_hist[-1]\n",
    "theta0 = theta_hist[-1]\n",
    "psi0 = psi_hist[-1]\n",
    "omegax0 = omegax_hist[-1]\n",
    "omegay0 = omegay_hist[-1]\n",
    "omegaz0 = omegaz_hist[-1]\n",
    "\n",
    "t = (44.8, 46.3)\n",
    "\n",
    "init = [px0, py0, pz0, vx0, vy0, vz0, \n",
    "        phi0, theta0, psi0, omegax0, omegay0, omegaz0]\n",
    "\n",
    "#controls\n",
    "taux, tauy, tauz, fz = body_forces(w1, w2, w3, w4)\n",
    "\n",
    "para =(taux, tauy, tauz, fz)\n",
    "sol = solve_ivp(quad_EOM, t, init, max_step = 0.001, args = para)\n",
    "sol\n",
    "\n",
    "t_hist = t_hist + list(sol.t)\n",
    "px_hist = px_hist + list(sol.y[0])\n",
    "py_hist = py_hist + list(sol.y[1])\n",
    "pz_hist = pz_hist + list(sol.y[2])\n",
    "vx_hist = vx_hist + list(sol.y[3])\n",
    "vy_hist = vy_hist + list(sol.y[4])\n",
    "vz_hist= vz_hist + list(sol.y[5])\n",
    "phi_hist = phi_hist + list(sol.y[6])\n",
    "theta_hist = theta_hist + list(sol.y[7])\n",
    "psi_hist = psi_hist + list(sol.y[8])\n",
    "omegax_hist = omegax_hist + list(sol.y[9])\n",
    "omegay_hist = omegay_hist + list(sol.y[10])\n",
    "omegaz_hist = omegaz_hist + list(sol.y[11])"
   ]
  },
  {
   "cell_type": "code",
   "execution_count": 114,
   "metadata": {},
   "outputs": [
    {
     "data": {
      "text/plain": [
       "(0.0, 0.0, 0.0, 9.212246465125661)"
      ]
     },
     "execution_count": 114,
     "metadata": {},
     "output_type": "execute_result"
    }
   ],
   "source": [
    "#controls\n",
    "#propeller controls\n",
    "W = 8.828999999999999\n",
    "w = 18627.79106464644 + 400\n",
    "    #clockwise\n",
    "w1 = w\n",
    "w3 = w\n",
    "    #counter-clockwise\n",
    "w2 = w\n",
    "w4 = w\n",
    "\n",
    "body_forces(w1, w2, w3, w4)\n",
    "#47.091822474820404 * np.cos(init_theta)\n",
    "taux, tauy, tauz, fz = body_forces(w1, w2, w3, w4)\n",
    "fz\n",
    "body_forces(w1, w2, w3, w4)"
   ]
  },
  {
   "cell_type": "code",
   "execution_count": 115,
   "metadata": {},
   "outputs": [],
   "source": [
    "#init_conditions\n",
    "px0 = px_hist[-1]\n",
    "py0 = py_hist[-1]\n",
    "pz0 = pz_hist[-1]\n",
    "vx0 = vx_hist[-1]\n",
    "vy0 = vy_hist[-1]\n",
    "vz0 = vz_hist[-1]\n",
    "phi0 = phi_hist[-1]\n",
    "theta0 = theta_hist[-1]\n",
    "psi0 = psi_hist[-1]\n",
    "omegax0 = omegax_hist[-1]\n",
    "omegay0 = omegay_hist[-1]\n",
    "omegaz0 = omegaz_hist[-1]\n",
    "\n",
    "t = (46.3, 47.3956)\n",
    "\n",
    "init = [px0, py0, pz0, vx0, vy0, vz0, \n",
    "        phi0, theta0, psi0, omegax0, omegay0, omegaz0]\n",
    "\n",
    "#controls\n",
    "taux, tauy, tauz, fz = body_forces(w1, w2, w3, w4)\n",
    "\n",
    "para =(taux, tauy, tauz, fz)\n",
    "sol = solve_ivp(quad_EOM, t, init, max_step = 0.001, args = para)\n",
    "sol\n",
    "\n",
    "t_hist = t_hist + list(sol.t)\n",
    "px_hist = px_hist + list(sol.y[0])\n",
    "py_hist = py_hist + list(sol.y[1])\n",
    "pz_hist = pz_hist + list(sol.y[2])\n",
    "vx_hist = vx_hist + list(sol.y[3])\n",
    "vy_hist = vy_hist + list(sol.y[4])\n",
    "vz_hist= vz_hist + list(sol.y[5])\n",
    "phi_hist = phi_hist + list(sol.y[6])\n",
    "theta_hist = theta_hist + list(sol.y[7])\n",
    "psi_hist = psi_hist + list(sol.y[8])\n",
    "omegax_hist = omegax_hist + list(sol.y[9])\n",
    "omegay_hist = omegay_hist + list(sol.y[10])\n",
    "omegaz_hist = omegaz_hist + list(sol.y[11])"
   ]
  },
  {
   "cell_type": "code",
   "execution_count": 116,
   "metadata": {},
   "outputs": [
    {
     "data": {
      "text/plain": [
       "(0.0, 0.0, 0.0, 8.829)"
      ]
     },
     "execution_count": 116,
     "metadata": {},
     "output_type": "execute_result"
    }
   ],
   "source": [
    "#controls\n",
    "#propeller controls\n",
    "W = 8.828999999999999\n",
    "w = 18627.79106464644\n",
    "    #clockwise\n",
    "w1 = w\n",
    "w3 = w\n",
    "    #counter-clockwise\n",
    "w2 = w\n",
    "w4 = w\n",
    "\n",
    "body_forces(w1, w2, w3, w4)\n",
    "#47.091822474820404 * np.cos(init_theta)\n",
    "taux, tauy, tauz, fz = body_forces(w1, w2, w3, w4)\n",
    "fz\n",
    "body_forces(w1, w2, w3, w4)"
   ]
  },
  {
   "cell_type": "code",
   "execution_count": 117,
   "metadata": {},
   "outputs": [],
   "source": [
    "#init_conditions\n",
    "px0 = px_hist[-1]\n",
    "py0 = py_hist[-1]\n",
    "pz0 = pz_hist[-1]\n",
    "vx0 = vx_hist[-1]\n",
    "vy0 = vy_hist[-1]\n",
    "vz0 = vz_hist[-1]\n",
    "phi0 = phi_hist[-1]\n",
    "theta0 = theta_hist[-1]\n",
    "psi0 = psi_hist[-1]\n",
    "omegax0 = omegax_hist[-1]\n",
    "omegay0 = omegay_hist[-1]\n",
    "omegaz0 = omegaz_hist[-1]\n",
    "\n",
    "t = (47.596, 54.2)\n",
    "\n",
    "init = [px0, py0, pz0, vx0, vy0, vz0, \n",
    "        phi0, theta0, psi0, omegax0, omegay0, omegaz0]\n",
    "\n",
    "#controls\n",
    "taux, tauy, tauz, fz = body_forces(w1, w2, w3, w4)\n",
    "\n",
    "para =(taux, tauy, tauz, fz)\n",
    "sol = solve_ivp(quad_EOM, t, init, max_step = 0.001, args = para)\n",
    "sol\n",
    "\n",
    "t_hist = t_hist + list(sol.t)\n",
    "px_hist = px_hist + list(sol.y[0])\n",
    "py_hist = py_hist + list(sol.y[1])\n",
    "pz_hist = pz_hist + list(sol.y[2])\n",
    "vx_hist = vx_hist + list(sol.y[3])\n",
    "vy_hist = vy_hist + list(sol.y[4])\n",
    "vz_hist= vz_hist + list(sol.y[5])\n",
    "phi_hist = phi_hist + list(sol.y[6])\n",
    "theta_hist = theta_hist + list(sol.y[7])\n",
    "psi_hist = psi_hist + list(sol.y[8])\n",
    "omegax_hist = omegax_hist + list(sol.y[9])\n",
    "omegay_hist = omegay_hist + list(sol.y[10])\n",
    "omegaz_hist = omegaz_hist + list(sol.y[11])"
   ]
  },
  {
   "cell_type": "code",
   "execution_count": 123,
   "metadata": {},
   "outputs": [
    {
     "data": {
      "image/png": "[encoded data removed]",
      "text/plain": [
       "<Figure size 640x480 with 1 Axes>"
      ]
     },
     "metadata": {},
     "output_type": "display_data"
    },
    {
     "data": {
      "text/plain": [
       "(5.054389934906443, 4.79496553483732, 1.5735000401615683e-06)"
      ]
     },
     "execution_count": 123,
     "metadata": {},
     "output_type": "execute_result"
    }
   ],
   "source": [
    "fig = plt.figure()\n",
    "pax = fig.add_subplot(111, projection='3d')\n",
    "\n",
    "pax.plot(px_hist, py_hist, pz_hist)\n",
    "pax.axis('equal')\n",
    "\n",
    "pax.set_title('Translational Path')\n",
    "pax.set_xlabel('x (m)')\n",
    "pax.set_ylabel('y (m)')\n",
    "pax.set_zlabel('z (m)')\n",
    "fig.savefig(fname = 'complex_path', dpi = 1200)\n",
    "plt.show()\n",
    "px_hist[-1], py_hist[-1], pz_hist[-1]"
   ]
  },
  {
   "cell_type": "code",
   "execution_count": 119,
   "metadata": {},
   "outputs": [
    {
     "data": {
      "image/png": "[encoded data removed]",
      "text/plain": [
       "<Figure size 640x480 with 1 Axes>"
      ]
     },
     "metadata": {},
     "output_type": "display_data"
    }
   ],
   "source": [
    "#position\n",
    "fig, pax = plt.subplots()\n",
    "pax.plot(t_hist, px_hist, label = 'X-Axis')\n",
    "pax.plot(t_hist, py_hist, label = 'Y-Axis')\n",
    "pax.plot(t_hist, pz_hist, label = 'Z-Axis')\n",
    "\n",
    "pax.set_title('Translational Postion')\n",
    "pax.set_xlabel('time (t)')\n",
    "pax.set_ylabel('Position (m)')\n",
    "pax.grid()\n",
    "pax.legend()\n",
    "fig.savefig(fname = 'complex_trans', dpi = 1200)\n",
    "plt.show()"
   ]
  },
  {
   "cell_type": "code",
   "execution_count": 120,
   "metadata": {},
   "outputs": [
    {
     "data": {
      "image/png": "[encoded data removed]",
      "text/plain": [
       "<Figure size 640x480 with 1 Axes>"
      ]
     },
     "metadata": {},
     "output_type": "display_data"
    }
   ],
   "source": [
    "#bryan-tait\n",
    "fig, pax = plt.subplots()\n",
    "pax.plot(t_hist, phi_hist, label = 'phi')\n",
    "pax.plot(t_hist, theta_hist, label = 'theta')\n",
    "pax.plot(t_hist, psi_hist, label = 'psi')\n",
    "\n",
    "pax.set_title('Euler Angles')\n",
    "pax.set_xlabel('time (t)')\n",
    "pax.set_ylabel('Angle (rad)')\n",
    "pax.grid()\n",
    "pax.legend()\n",
    "fig.savefig(fname = 'complex_euler', dpi = 1200)\n",
    "plt.show()"
   ]
  },
  {
   "cell_type": "code",
   "execution_count": 121,
   "metadata": {},
   "outputs": [
    {
     "data": {
      "image/png": "[encoded data removed]",
      "text/plain": [
       "<Figure size 640x480 with 1 Axes>"
      ]
     },
     "metadata": {},
     "output_type": "display_data"
    }
   ],
   "source": [
    "#linear velcity\n",
    "fig, pax = plt.subplots()\n",
    "pax.plot(t_hist, vx_hist, label = 'Vx')\n",
    "pax.plot(t_hist, vy_hist, label = 'Vy')\n",
    "pax.plot(t_hist, vz_hist, label = 'Vz')\n",
    "\n",
    "pax.set_title('Translational Velocity')\n",
    "pax.set_xlabel('time (t)')\n",
    "pax.set_ylabel('velocity (m/s)')\n",
    "pax.grid()\n",
    "pax.legend()\n",
    "fig.savefig(fname = 'complex_vel', dpi = 1200)\n",
    "plt.show()"
   ]
  },
  {
   "cell_type": "code",
   "execution_count": 122,
   "metadata": {},
   "outputs": [
    {
     "data": {
      "image/png": "[encoded data removed]",
      "text/plain": [
       "<Figure size 640x480 with 1 Axes>"
      ]
     },
     "metadata": {},
     "output_type": "display_data"
    }
   ],
   "source": [
    "#rot velocity\n",
    "fig, pax = plt.subplots()\n",
    "pax.plot(t_hist, omegax_hist, label = 'wx')\n",
    "pax.plot(t_hist, omegay_hist, label = 'wy')\n",
    "pax.plot(t_hist, omegaz_hist, label = 'wz')\n",
    "\n",
    "pax.set_title('Rotational Velocity')\n",
    "pax.set_xlabel('time (t)')\n",
    "pax.set_ylabel('Angular Velocity (rad/s)')\n",
    "pax.grid()\n",
    "pax.legend()\n",
    "fig.savefig(fname = 'complex_w', dpi = 1200)\n",
    "plt.show()"
   ]
  }
 ],
 "metadata": {
  "kernelspec": {
   "display_name": "europa",
   "language": "python",
   "name": "python3"
  },
  "language_info": {
   "codemirror_mode": {
    "name": "ipython",
    "version": 3
   },
   "file_extension": ".py",
   "mimetype": "text/x-python",
   "name": "python",
   "nbconvert_exporter": "python",
   "pygments_lexer": "ipython3",
   "version": "3.12.1"
  }
 },
 "nbformat": 4,
 "nbformat_minor": 2
}
