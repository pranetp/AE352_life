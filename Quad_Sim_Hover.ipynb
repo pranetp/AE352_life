{
 "cells": [
  {
   "cell_type": "code",
   "execution_count": 20,
   "metadata": {},
   "outputs": [],
   "source": [
    "from sympy import *\n",
    "import numpy as np\n",
    "from scipy.integrate import solve_ivp\n",
    "import matplotlib.pyplot as plt\n",
    "import matplotlib.animation as animation\n",
    "from IPython.display import HTML"
   ]
  },
  {
   "cell_type": "code",
   "execution_count": 21,
   "metadata": {},
   "outputs": [],
   "source": [
    "#constants / QuadCopter dimensions\n",
    "g = 9.81 # gravity\n",
    "k = 6.36105*10**-9  # propellar lift coefficient\n",
    "b = 4.65133*10**-11  # drag coefficient\n",
    "\n",
    "m_body = 4\n",
    "l_body = 0.5\n",
    "w_body = l_body\n",
    "t_body = 0.1\n",
    "\n",
    "m_arm = 0.2\n",
    "l_arm = 0.4\n",
    "\n",
    "l_rz = 0.05\n",
    "#1 # z-distance between rotors and center of mass"
   ]
  },
  {
   "cell_type": "code",
   "execution_count": 22,
   "metadata": {},
   "outputs": [],
   "source": [
    "def body_forces(w1, w2, w3, w4):\n",
    "    taux = l_rz * k * (-w2**2 + w4**2)\n",
    "    tauy = l_rz * k * (-w1**2 + w3**2)\n",
    "    tauz = l_rz * b * (w1**2 - w2**2 + w3**2 - w4**2)\n",
    "\n",
    "    fz = k * (w1**2 + w2**2 + w3**2 + w4**2)\n",
    "\n",
    "    return taux, tauy, tauz, fz"
   ]
  },
  {
   "cell_type": "code",
   "execution_count": 23,
   "metadata": {},
   "outputs": [],
   "source": [
    "#calcs moments of inertia \n",
    "m = 4*m_arm + m_body\n",
    "\n",
    "I_xx_body = 1/12 * m_body*(w_body**2 + t_body**2)\n",
    "I_yy_body = 1/12 * m_body*(l_body**2 + t_body**2)\n",
    "I_zz_body = 1/12 * m_body *(w_body**2 + l_body**2)\n",
    "\n",
    "I_xx_arm = 0\n",
    "I_yy_arm = 1/12 * m_arm * l_arm**2 + m_arm *(l_arm/2 + l_body/2)**2\n",
    "I_zz_arm = I_yy_arm\n",
    "\n",
    "Ixx = 4*I_xx_arm + I_xx_body\n",
    "Iyy = 4*I_yy_arm + I_yy_body\n",
    "Izz = 4*I_zz_arm + I_zz_body"
   ]
  },
  {
   "cell_type": "code",
   "execution_count": 24,
   "metadata": {},
   "outputs": [],
   "source": [
    "def quad_EOM(t, q, taux, tauy, tauz, fz):\n",
    "\n",
    "    #must be first-order ODES\n",
    "    '''\n",
    "    Arguements:\n",
    "        q : state vector :\n",
    "        [px, py, pz, vx, vy, vz, phi, theta, psi, \n",
    "        omegax, omegay, omegaz, taux, tauy, tauz, fz]\n",
    "\n",
    "        t : time\n",
    "        p : various vector parameters : \n",
    "        [m, Ixx, Iyy, Izz]\n",
    "    '''\n",
    "\n",
    "    px, py, pz, vx, vy, vz, phi, theta, psi, omegax, omegay, omegaz = q\n",
    "\n",
    "    C_phi = np.cos(phi)\n",
    "    C_theta = np.cos(theta)\n",
    "    C_psi = np.cos(psi)\n",
    "    \n",
    "    S_phi = np.sin(phi)\n",
    "    S_theta = np.sin(theta)\n",
    "    S_psi = np.sin(psi)\n",
    "\n",
    "    px_dot  = vx*C_psi*C_theta + vy * (S_phi*S_theta*C_psi - S_psi * C_phi) + vz * (S_phi * S_psi + S_theta*C_phi*C_psi)\n",
    "    py_dot = vx*S_psi*C_theta + vy*(S_phi * S_psi *S_theta + C_phi*C_psi) - vz*(S_phi*C_psi - S_psi*S_theta*C_phi)\n",
    "    pz_dot = -vx*S_theta + vy*S_phi*C_theta + vz * C_phi * C_theta\n",
    "\n",
    "    vx_dot = -omegay*vz + omegaz*vy + g*S_theta\n",
    "    vy_dot = omegax*vz - omegaz*vx - g*S_phi*C_theta\n",
    "    vz_dot = fz/m - omegax*vy + omegay*vx - g*C_phi*C_theta\n",
    "\n",
    "    phi_dot = omegax + omegay*S_phi*S_theta/C_theta + omegaz*C_phi*S_theta/C_theta\n",
    "    theta_dot = omegay*C_phi - omegaz*S_phi\n",
    "    psi_dot = 1/C_theta * (omegay*S_phi + omegaz*C_phi)\n",
    "\n",
    "    omegax_dot = 1/Ixx * (Iyy*omegay*omegaz - Izz*omegay*omegaz + taux)\n",
    "    omegay_dot = 1/Iyy * (-Ixx*omegax*omegaz + Izz*omegax * omegaz + tauy)\n",
    "    omegaz_dot = 1/Izz * (Ixx*omegax*omegay - Iyy*omegax*omegay+tauz)\n",
    "\n",
    "\n",
    "\n",
    "    EOM = [px_dot, py_dot, pz_dot, \n",
    "           vx_dot, vy_dot, vz_dot,\n",
    "           phi_dot, theta_dot, psi_dot,\n",
    "           omegax_dot, omegay_dot, omegaz_dot]\n",
    "    \n",
    "    return EOM "
   ]
  },
  {
   "cell_type": "code",
   "execution_count": 25,
   "metadata": {},
   "outputs": [],
   "source": [
    "#propeller controls\n",
    "#for hover, w1=w2=w3=w4\n",
    "w = np.sqrt(m*g/(k*4))\n",
    "    #clockwise\n",
    "w1 = w\n",
    "w3 = w\n",
    "    #counter-clockwise\n",
    "w2 = w\n",
    "w4 = w"
   ]
  },
  {
   "cell_type": "code",
   "execution_count": 26,
   "metadata": {},
   "outputs": [
    {
     "data": {
      "text/plain": [
       "  message: The solver successfully reached the end of the integration interval.\n",
       "  success: True\n",
       "   status: 0\n",
       "        t: [ 0.000e+00  1.000e-06 ...  6.000e+01  6.000e+01]\n",
       "        y: [[ 0.000e+00  0.000e+00 ...  0.000e+00  0.000e+00]\n",
       "            [ 0.000e+00  0.000e+00 ...  0.000e+00  0.000e+00]\n",
       "            ...\n",
       "            [ 0.000e+00  0.000e+00 ...  0.000e+00  0.000e+00]\n",
       "            [ 0.000e+00  0.000e+00 ...  0.000e+00  0.000e+00]]\n",
       "      sol: None\n",
       " t_events: None\n",
       " y_events: None\n",
       "     nfev: 360020\n",
       "     njev: 0\n",
       "      nlu: 0"
      ]
     },
     "execution_count": 26,
     "metadata": {},
     "output_type": "execute_result"
    }
   ],
   "source": [
    "px0 = 0\n",
    "py0 = 0\n",
    "pz0 = 1\n",
    "vx0 = 0\n",
    "vy0 = 0\n",
    "vz0 = 0\n",
    "phi0 = 0\n",
    "theta0 = 0\n",
    "psi0 = 0\n",
    "omegax0 = 0\n",
    "omegay0 = 0\n",
    "omegaz0 = 0\n",
    "\n",
    "t = (0, 60)\n",
    "\n",
    "init = [px0, py0, pz0, vx0, vy0, vz0, \n",
    "        phi0, theta0, psi0, omegax0, omegay0, omegaz0]\n",
    "\n",
    "#controls\n",
    "taux, tauy, tauz, fz = body_forces(w1, w2, w3, w4)\n",
    "\n",
    "para =(taux, tauy, tauz, fz)\n",
    "sol = solve_ivp(quad_EOM, t, init, max_step = 0.001, args = para)\n",
    "sol"
   ]
  },
  {
   "cell_type": "code",
   "execution_count": 27,
   "metadata": {},
   "outputs": [
    {
     "data": {
      "image/png": "[encoded data removed]",
      "text/plain": [
       "<Figure size 640x480 with 1 Axes>"
      ]
     },
     "metadata": {},
     "output_type": "display_data"
    }
   ],
   "source": [
    "plt.plot(sol.t, sol.y[2], label = 'Z-Axis')\n",
    "plt.plot(sol.t, sol.y[0], label = 'X-Axis')\n",
    "plt.plot(sol.t, sol.y[1], label = 'Y-Axis')\n",
    "\n",
    "plt.legend()\n",
    "plt.show()"
   ]
  },
  {
   "cell_type": "code",
   "execution_count": 28,
   "metadata": {},
   "outputs": [
    {
     "data": {
      "image/png": "[encoded data removed]",
      "text/plain": [
       "<Figure size 640x480 with 1 Axes>"
      ]
     },
     "metadata": {},
     "output_type": "display_data"
    }
   ],
   "source": [
    "plt.plot(sol.t, sol.y[7], label = 'phi')\n",
    "plt.plot(sol.t, sol.y[8], label = 'theta')\n",
    "plt.plot(sol.t, sol.y[9], label = 'psi')\n",
    "\n",
    "plt.legend()\n",
    "plt.show()"
   ]
  }
 ],
 "metadata": {
  "kernelspec": {
   "display_name": "europa",
   "language": "python",
   "name": "python3"
  },
  "language_info": {
   "codemirror_mode": {
    "name": "ipython",
    "version": 3
   },
   "file_extension": ".py",
   "mimetype": "text/x-python",
   "name": "python",
   "nbconvert_exporter": "python",
   "pygments_lexer": "ipython3",
   "version": "3.12.1"
  }
 },
 "nbformat": 4,
 "nbformat_minor": 2
}
